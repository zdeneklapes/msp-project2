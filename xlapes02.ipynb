{
 "cells": [
  {
   "cell_type": "code",
   "execution_count": 1,
   "id": "initial_id",
   "metadata": {
    "collapsed": true,
    "ExecuteTime": {
     "end_time": "2023-12-12T01:57:21.621970Z",
     "start_time": "2023-12-12T01:57:21.170784Z"
    }
   },
   "outputs": [],
   "source": [
    "import numpy as np\n",
    "import matplotlib.pyplot as plt\n",
    "import scipy.stats as stats\n",
    "import pandas as pd\n",
    "from scipy import stats\n",
    "import statsmodels.api as sm\n",
    "from statsmodels.stats.outliers_influence import variance_inflation_factor\n",
    "import seaborn as sns\n",
    "\n",
    "# Dark theme\n",
    "plt.style.use('dark_background')\n",
    "\n",
    "# set grid thickness\n",
    "plt.rcParams['grid.linewidth'] = 0.3\n",
    "\n",
    "DEBUG = False"
   ]
  },
  {
   "cell_type": "markdown",
   "source": [
    "# Nacteni dat"
   ],
   "metadata": {
    "collapsed": false
   },
   "id": "8faa4d901f97b7ca"
  },
  {
   "cell_type": "code",
   "execution_count": 2,
   "outputs": [],
   "source": [
    "def print_debug(*args, **kwargs):\n",
    "    global DEBUG\n",
    "    if DEBUG:\n",
    "        print(*args, **kwargs)"
   ],
   "metadata": {
    "collapsed": false,
    "ExecuteTime": {
     "end_time": "2023-12-12T01:57:23.271177Z",
     "start_time": "2023-12-12T01:57:23.209150Z"
    }
   },
   "id": "992af79428e2289c"
  },
  {
   "cell_type": "code",
   "execution_count": 3,
   "outputs": [],
   "source": [
    "def load_data():\n",
    "    DEBUG = True\n",
    "    excel_file = pd.ExcelFile(\"Projekt-2_Data.xlsx\")\n",
    "    print_debug(excel_file.sheet_names)\n",
    "\n",
    "    df_uloha_1: pd.DataFrame = excel_file.parse(excel_file.sheet_names[0])\n",
    "    df_uloha_2 = excel_file.parse(excel_file.sheet_names[1])\n",
    "    print_debug(df_uloha_1.head())\n",
    "    print_debug(df_uloha_2.head())\n",
    "    return {\n",
    "        '1': df_uloha_1,\n",
    "        '1_a': df_uloha_1['uloha_1 a)'],\n",
    "        '1_b_prior': df_uloha_1['uloha_1 b)_prior'],\n",
    "        '1_g': df_uloha_1['skupina'],\n",
    "        '1_b_observation': df_uloha_1['uloha_1 b)_pozorování'],\n",
    "        '2': df_uloha_2,\n",
    "        '2_os': df_uloha_2['OSType'],\n",
    "        '2_as': df_uloha_2['ActiveUsers'],\n",
    "        '2_ip': df_uloha_2['InteractingPct'],\n",
    "        '2_sp': df_uloha_2['ScrollingPct'],\n",
    "        '2_p': df_uloha_2['Ping [ms]'],\n",
    "    }\n",
    "\n",
    "\n",
    "data = load_data()"
   ],
   "metadata": {
    "collapsed": false,
    "ExecuteTime": {
     "end_time": "2023-12-12T01:57:28.425442Z",
     "start_time": "2023-12-12T01:57:23.568898Z"
    }
   },
   "id": "2b35686f6ec7b1cb"
  },
  {
   "cell_type": "code",
   "execution_count": 4,
   "outputs": [],
   "source": [
    "# data"
   ],
   "metadata": {
    "collapsed": false,
    "ExecuteTime": {
     "end_time": "2023-12-12T01:57:28.450005Z",
     "start_time": "2023-12-12T01:57:28.427520Z"
    }
   },
   "id": "90a1e1ed62ddd8a2"
  },
  {
   "cell_type": "markdown",
   "source": [
    "# ULOHA 1 - Bayesovske odhady"
   ],
   "metadata": {
    "collapsed": false
   },
   "id": "ea8e6d01d0bc2356"
  },
  {
   "cell_type": "markdown",
   "source": [
    "## ULOHA 1.a - Konjugované apriorní a aposteriorní rozdělení, prediktivní rozdělení [2 body]"
   ],
   "metadata": {
    "collapsed": false
   },
   "id": "9c2fd2c0a26ad612"
  },
  {
   "cell_type": "markdown",
   "source": [
    "### Cleaning data\n",
    "- Remove outliers"
   ],
   "metadata": {
    "collapsed": false
   },
   "id": "c84dbe5f0008631e"
  },
  {
   "cell_type": "code",
   "execution_count": 5,
   "outputs": [],
   "source": [
    "def task_1_b_data():\n",
    "    connections = 10\n",
    "    time = 5\n",
    "    info_df1 = data\n",
    "    return {\n",
    "        'connections': connections,\n",
    "        'time': time,\n",
    "        'info_df1': info_df1\n",
    "    }"
   ],
   "metadata": {
    "collapsed": false,
    "ExecuteTime": {
     "end_time": "2023-12-12T01:57:28.450679Z",
     "start_time": "2023-12-12T01:57:28.431216Z"
    }
   },
   "id": "3b7c879a101f45c"
  },
  {
   "cell_type": "code",
   "execution_count": 6,
   "outputs": [
    {
     "data": {
      "text/plain": "array([2., 2., 1., 3., 0., 1., 1., 3., 2., 2., 3., 1., 5., 3., 1., 1., 2.,\n       1., 1., 1., 2., 3., 2., 0., 3., 1., 2., 1., 5., 1., 0., 0., 2., 1.,\n       1., 0., 0., 1., 3., 1., 0., 1., 2., 0., 1., 3., 0., 1., 1., 4., 1.,\n       2., 1., 1., 2., 4., 2., 2., 3., 4., 4., 4., 0., 2., 0., 0., 3., 5.,\n       1., 2., 1., 0., 1., 1., 4., 1., 1., 3., 0., 1., 2., 2., 2., 3., 1.,\n       2., 2., 2., 1., 2., 2., 1., 0., 1., 1., 3., 0., 3., 1., 1.])"
     },
     "execution_count": 6,
     "metadata": {},
     "output_type": "execute_result"
    }
   ],
   "source": [
    "def task_1_b_cleared_data(df_uloha_1: pd.DataFrame):\n",
    "    # Extract observed data\n",
    "    observed_data = df_uloha_1.values\n",
    "    print_debug(f\"{observed_data=}\")\n",
    "    print_debug(f\"{len(observed_data)=}\")\n",
    "\n",
    "    # remove nan or +-inf values\n",
    "    observed_data = observed_data[~np.isnan(observed_data)]\n",
    "    print_debug(f\"{observed_data=}\")\n",
    "    print_debug(f\"{len(observed_data)=}\")\n",
    "\n",
    "    # Calculate Z-scores\n",
    "    z_scores = stats.zscore(observed_data, nan_policy='raise')\n",
    "    print_debug(f\"{z_scores=}\")\n",
    "    print_debug(f\"{len(observed_data)=}\")\n",
    "\n",
    "    # Define a threshold for outliers (e.g., 3 standard deviations)\n",
    "    threshold = 3\n",
    "\n",
    "    # Filter out rows with Z-scores beyond the threshold\n",
    "    filtered_data = observed_data[(np.abs(z_scores) < threshold)]\n",
    "    print_debug(f\"{filtered_data=}\")\n",
    "    print_debug(f\"{len(observed_data)=}\")\n",
    "\n",
    "    # Display the number of removed outliers\n",
    "    print_debug(f\"Number of removed outliers: {len(df_uloha_1.values) - len(filtered_data)}\")\n",
    "    return filtered_data\n",
    "\n",
    "\n",
    "filtered_data = task_1_b_cleared_data(data['1_a'])\n",
    "filtered_data"
   ],
   "metadata": {
    "collapsed": false,
    "ExecuteTime": {
     "end_time": "2023-12-12T01:57:28.526183Z",
     "start_time": "2023-12-12T01:57:28.444560Z"
    }
   },
   "id": "4b3113fea612dc3f"
  },
  {
   "cell_type": "markdown",
   "source": [
    "## ULOHA 1.a.1 - Do jednoho obrázku vykreslíte apriorní a aposteriorní hustotou parametru Poissonova rozdělení $\\lambda$."
   ],
   "metadata": {
    "collapsed": false
   },
   "id": "eb3e90d9765568cd"
  },
  {
   "cell_type": "code",
   "execution_count": 7,
   "outputs": [],
   "source": [
    "def task_1_a_1_data():\n",
    "    # Expertní odhad parametru λ\n",
    "    lambda_expert = 10 / 5  # 10 připojení za 5 ms\n",
    "    alpha_prior = 10  # connection count\n",
    "    # alpha_prior = 2\n",
    "    beta_prior = 5  # time within the connection count (alpha_prior) was observed\n",
    "    # beta_prior = 1\n",
    "    return {\n",
    "        'lambda_expert': lambda_expert,\n",
    "        'alpha_prior': alpha_prior,\n",
    "        'beta_prior': beta_prior\n",
    "    }"
   ],
   "metadata": {
    "collapsed": false,
    "ExecuteTime": {
     "end_time": "2023-12-12T01:57:28.526787Z",
     "start_time": "2023-12-12T01:57:28.456514Z"
    }
   },
   "id": "2906ee1a55a4a635"
  },
  {
   "cell_type": "code",
   "execution_count": 8,
   "outputs": [],
   "source": [
    "def task_1_a_1_prior():\n",
    "    data = task_1_a_1_data()\n",
    "    alpha_prior = data['alpha_prior']\n",
    "    beta_prior = data['beta_prior']\n",
    "    \n",
    "    # lambda prior\n",
    "    lambda_prior = alpha_prior / beta_prior\n",
    "    print_debug(f\"{lambda_prior=}\")\n",
    "\n",
    "    x = np.linspace(0, np.max(filtered_data), 1000)\n",
    "    y = stats.gamma.pdf(x, alpha_prior, scale=1 / beta_prior)\n",
    "    return {\n",
    "        'x': x,\n",
    "        'y': y,\n",
    "        \"alpha_prior\": alpha_prior,\n",
    "        \"beta_prior\": beta_prior\n",
    "    }\n"
   ],
   "metadata": {
    "collapsed": false,
    "ExecuteTime": {
     "end_time": "2023-12-12T01:57:28.527285Z",
     "start_time": "2023-12-12T01:57:28.465318Z"
    }
   },
   "id": "b7f277b96126017e"
  },
  {
   "cell_type": "code",
   "execution_count": 9,
   "outputs": [],
   "source": [
    "def task_1_a_1_posterior():\n",
    "    data = task_1_a_1_data()\n",
    "    alpha_prior = data['alpha_prior']\n",
    "    beta_prior = data['beta_prior']\n",
    "    \n",
    "    # posterior\n",
    "    alpha_posterior = alpha_prior + np.sum(filtered_data)\n",
    "    beta_posterior = beta_prior + len(filtered_data)\n",
    "\n",
    "    # lambda_posterior\n",
    "    lambda_posterior = alpha_posterior / beta_posterior\n",
    "    print_debug(f\"{lambda_posterior=}\")\n",
    "\n",
    "    # Posterior\n",
    "    x = np.linspace(0, np.max(filtered_data), 1000)\n",
    "    y = stats.gamma.pdf(x, alpha_posterior, scale=1 / beta_posterior)\n",
    "    return {\n",
    "        'x': x,\n",
    "        'y': y,\n",
    "        \"alpha_posterior\": alpha_posterior,\n",
    "        \"beta_posterior\": beta_posterior\n",
    "    }"
   ],
   "metadata": {
    "collapsed": false,
    "ExecuteTime": {
     "end_time": "2023-12-12T01:57:28.527712Z",
     "start_time": "2023-12-12T01:57:28.472471Z"
    }
   },
   "id": "89818cc14c30c52b"
  },
  {
   "cell_type": "code",
   "execution_count": 10,
   "outputs": [
    {
     "data": {
      "text/plain": "<Figure size 640x480 with 1 Axes>",
      "image/png": "[encoded data removed]"
     },
     "metadata": {},
     "output_type": "display_data"
    }
   ],
   "source": [
    "def task_1_a_1_plot():\n",
    "    data_prior = task_1_a_1_prior()\n",
    "    x = task_1_a_1_prior()['x']\n",
    "    y = task_1_a_1_prior()['y']\n",
    "    plt.plot(x, y, label = 'Posterior', color = 'blue')\n",
    "    data_posterior = task_1_a_1_posterior()\n",
    "    x = task_1_a_1_posterior()['x']\n",
    "    y = task_1_a_1_posterior()['y']\n",
    "    plt.plot(x, y, label = 'Posterior', color = 'red')\n",
    "    plt.title('Prior and Posterior Distributions')\n",
    "    plt.xlabel('Lambda')\n",
    "    plt.ylabel('Probability Density')\n",
    "    plt.legend()\n",
    "    plt.show()\n",
    "task_1_a_1_plot()"
   ],
   "metadata": {
    "collapsed": false,
    "ExecuteTime": {
     "end_time": "2023-12-12T01:57:28.800944Z",
     "start_time": "2023-12-12T01:57:28.478957Z"
    }
   },
   "id": "a3741582c5dfc59f"
  },
  {
   "cell_type": "markdown",
   "source": [
    "## ULOHA 1.a.2 - Do jednoho obrázku vykreslíte apriorní a aposteriorní prediktivní hustotou pozorovaní $x$ za jeden časový interval."
   ],
   "metadata": {
    "collapsed": false
   },
   "id": "61f0af1e772456ac"
  },
  {
   "cell_type": "code",
   "execution_count": 11,
   "outputs": [],
   "source": [
    "def task_1_a_2_prior():\n",
    "    data = task_1_a_1_data()\n",
    "    alpha_prior = data['alpha_prior']\n",
    "    beta_prior = data['beta_prior']\n",
    "    lambda_prior = data['lambda_expert']\n",
    "\n",
    "    alpha_posterior = alpha_prior + np.sum(filtered_data)  # Assuming filtered_data is defined\n",
    "    beta_posterior = beta_prior + len(filtered_data)\n",
    "\n",
    "    lambda_posterior = alpha_posterior / beta_posterior\n",
    "    print(f\"{lambda_posterior=}\")\n",
    "\n",
    "    x = range(0, 6)\n",
    "    y = stats.nbinom.pmf(x, alpha_prior, beta_prior / (1 + beta_prior))\n",
    "    return x, y"
   ],
   "metadata": {
    "collapsed": false,
    "ExecuteTime": {
     "end_time": "2023-12-12T01:57:28.824685Z",
     "start_time": "2023-12-12T01:57:28.805163Z"
    }
   },
   "id": "4ab96befce46a20a"
  },
  {
   "cell_type": "code",
   "execution_count": 12,
   "outputs": [],
   "source": [
    "def task_1_a_2_posterior():\n",
    "    data = task_1_a_1_data()\n",
    "    alpha_prior = data['alpha_prior']\n",
    "    beta_prior = data['beta_prior']\n",
    "    lambda_prior = data['lambda_expert']\n",
    "\n",
    "    alpha_posterior = alpha_prior + np.sum(filtered_data)  # Assuming filtered_data is defined\n",
    "    beta_posterior = beta_prior + len(filtered_data)\n",
    "\n",
    "    x = range(0, 6)\n",
    "    y = stats.nbinom.pmf(x, alpha_posterior, beta_posterior / (1 + beta_posterior))\n",
    "    return x, y"
   ],
   "metadata": {
    "collapsed": false,
    "ExecuteTime": {
     "end_time": "2023-12-12T01:57:28.825295Z",
     "start_time": "2023-12-12T01:57:28.814182Z"
    }
   },
   "id": "73ca523fb4a1efcd"
  },
  {
   "cell_type": "code",
   "execution_count": 13,
   "outputs": [
    {
     "name": "stdout",
     "output_type": "stream",
     "text": [
      "lambda_posterior=1.6761904761904762\n"
     ]
    },
    {
     "data": {
      "text/plain": "<Figure size 640x480 with 1 Axes>",
      "image/png": "[encoded data removed]"
     },
     "metadata": {},
     "output_type": "display_data"
    }
   ],
   "source": [
    "def task_1_a_2_plot():\n",
    "    x, y = task_1_a_2_prior()\n",
    "    plt.plot(x, y, label='Prior predictive', color='blue')\n",
    "    x, y = task_1_a_2_posterior()\n",
    "    plt.plot(x, y, label='Prior predictive', color='red')\n",
    "    plt.title('Prior and Posterior Predictive densities')\n",
    "    plt.xlabel('How many (x) connections?')\n",
    "    plt.ylabel('Probability of (x) connections')\n",
    "    plt.legend()\n",
    "    plt.show()\n",
    "task_1_a_2_plot()"
   ],
   "metadata": {
    "collapsed": false,
    "ExecuteTime": {
     "end_time": "2023-12-12T01:57:29.124028Z",
     "start_time": "2023-12-12T01:57:28.822629Z"
    }
   },
   "id": "b54b0a6d31eabe5c"
  },
  {
   "cell_type": "code",
   "execution_count": 14,
   "outputs": [
    {
     "name": "stdout",
     "output_type": "stream",
     "text": [
      "Prior 95% CI for λ: 0.95908, 3.41696\n",
      "Posterior 95% CI for λ: 1.43769, 1.93272\n"
     ]
    }
   ],
   "source": [
    "def task_1_a_3():\n",
    "    global DEBUG\n",
    "    DEBUG = True\n",
    "    data = task_1_a_1_data()\n",
    "    alpha_prior = data['alpha_prior']\n",
    "    beta_prior = data['beta_prior']\n",
    "\n",
    "    alpha_posterior = alpha_prior + np.sum(filtered_data)  # Assuming filtered_data is defined\n",
    "    beta_posterior = beta_prior + len(filtered_data)\n",
    "    \n",
    "    # Task 3: Construct 95% confidence intervals for λ from prior and posterior distributions\n",
    "    prior_ci = stats.gamma.interval(0.95, alpha_prior, scale=1 / beta_prior)\n",
    "    posterior_ci = stats.gamma.interval(0.95, alpha_posterior, scale=1 / beta_posterior)\n",
    "\n",
    "    print_debug(f\"Prior 95% CI for λ: {prior_ci[0]:.5f}, {prior_ci[1]:.5f}\")\n",
    "    print_debug(f\"Posterior 95% CI for λ: {posterior_ci[0]:.5f}, {posterior_ci[1]:.5f}\")\n",
    "    \n",
    "task_1_a_3()"
   ],
   "metadata": {
    "collapsed": false,
    "ExecuteTime": {
     "end_time": "2023-12-12T01:57:29.124746Z",
     "start_time": "2023-12-12T01:57:29.111120Z"
    }
   },
   "id": "8cf92de43e82ec5"
  },
  {
   "cell_type": "code",
   "execution_count": 15,
   "outputs": [
    {
     "name": "stdout",
     "output_type": "stream",
     "text": [
      "Aposteriori mean: 1.67619\n",
      "Aposteriori mode: 1.66667\n"
     ]
    }
   ],
   "source": [
    "def task_1_a_4():\n",
    "    global DEBUG\n",
    "    DEBUG = True\n",
    "    data = task_1_a_1_data()\n",
    "    alpha_prior = data['alpha_prior']\n",
    "    beta_prior = data['beta_prior']\n",
    "    \n",
    "    alpha_posterior = alpha_prior + np.sum(filtered_data)  # Assuming filtered_data is defined\n",
    "    beta_posterior = beta_prior + len(filtered_data)\n",
    "    \n",
    "    # Task 4: Select two posterior point estimates for λ and compare them\n",
    "    posterior_mean = alpha_posterior / beta_posterior\n",
    "    posterior_mode = (alpha_posterior - 1) / beta_posterior\n",
    "\n",
    "    print(f\"Aposteriori mean: {posterior_mean:.5f}\")\n",
    "    print(f\"Aposteriori mode: {posterior_mode:.5f}\")\n",
    "task_1_a_4()"
   ],
   "metadata": {
    "collapsed": false,
    "ExecuteTime": {
     "end_time": "2023-12-12T01:57:29.151492Z",
     "start_time": "2023-12-12T01:57:29.122579Z"
    }
   },
   "id": "23eec04c38e9d7ea"
  },
  {
   "cell_type": "code",
   "execution_count": 16,
   "outputs": [
    {
     "name": "stdout",
     "output_type": "stream",
     "text": [
      "Prior estimate: 2.00000\n",
      "Posterior estimate: 1.67619\n"
     ]
    }
   ],
   "source": [
    "def task_1_a_5():\n",
    "    global DEBUG\n",
    "    DEBUG = True\n",
    "    data = task_1_a_1_data()\n",
    "    alpha_prior = data['alpha_prior']\n",
    "    beta_prior = data['beta_prior']\n",
    "    \n",
    "    alpha_posterior = alpha_prior + np.sum(filtered_data)  # Assuming filtered_data is defined\n",
    "    beta_posterior = beta_prior + len(filtered_data)\n",
    "    \n",
    "    # Task 5: Select one prior and one posterior point estimate for the number of observations\n",
    "    mu_prior = alpha_prior / beta_prior\n",
    "    mu_posterior = alpha_posterior / beta_posterior\n",
    "\n",
    "    print(f\"Prior estimate: {mu_prior:.5f}\")\n",
    "    print(f\"Posterior estimate: {mu_posterior:.5f}\")\n",
    "task_1_a_5()"
   ],
   "metadata": {
    "collapsed": false,
    "ExecuteTime": {
     "end_time": "2023-12-12T01:57:29.696745Z",
     "start_time": "2023-12-12T01:57:29.570802Z"
    }
   },
   "id": "6a1acc8b3c9bdc64"
  },
  {
   "cell_type": "markdown",
   "source": [
    "## ULOHA 1.b - Aproximace diskrétním rozdělením [2 body]"
   ],
   "metadata": {
    "collapsed": false
   },
   "id": "2b589a996eefb57"
  },
  {
   "cell_type": "markdown",
   "source": [
    "### Load data"
   ],
   "metadata": {
    "collapsed": false
   },
   "id": "bf7d991f2c9c2966"
  },
  {
   "cell_type": "code",
   "execution_count": 17,
   "outputs": [],
   "source": [
    "def task_1_b_cleared_data(prior_data,\n",
    "                          observed_data, \n",
    "                          group_column):\n",
    "    global DEBUG\n",
    "    DEBUG = 0\n",
    "\n",
    "    #Filter inf and nan values\n",
    "    prior_data = prior_data[~np.isnan(prior_data)]\n",
    "    observed_data = observed_data[~np.isnan(observed_data)]\n",
    "    group_column = group_column[~np.isnan(group_column)]\n",
    "    print_debug(f\"{prior_data=}\")\n",
    "    print_debug(f\"{len(prior_data)=}\")\n",
    "    print_debug()\n",
    "    print_debug(f\"{observed_data=}\")\n",
    "    print_debug(f\"{len(observed_data)=}\")\n",
    "    print_debug()\n",
    "    print_debug(f\"{group_column=}\")\n",
    "    print_debug(f\"{len(group_column)=}\")\n",
    "    print_debug()\n",
    "    return {\n",
    "        'prior_data': prior_data,\n",
    "        'observed_data': observed_data,\n",
    "        'group_column': group_column\n",
    "    }\n",
    "    \n",
    "# task_1_b_cleared_data(data['1_b_prior'], data['1_b_observation'], data['1_g'])"
   ],
   "metadata": {
    "collapsed": false,
    "ExecuteTime": {
     "end_time": "2023-12-12T01:57:31.235862Z",
     "start_time": "2023-12-12T01:57:30.423633Z"
    }
   },
   "id": "93c235e6837e24bb"
  },
  {
   "cell_type": "markdown",
   "source": [
    "### Uloha 1.b.1: Plot prior, posterior, and likelihood functions"
   ],
   "metadata": {
    "collapsed": false
   },
   "id": "4b8fc29504a9fa37"
  },
  {
   "cell_type": "code",
   "execution_count": 18,
   "outputs": [],
   "source": [
    "def task_1_b_1_data():\n",
    "    global DEBUG\n",
    "    # parameters for prior distribution\n",
    "    mu = 3\n",
    "    sigma_squared = 1\n",
    "    a = 1\n",
    "    return {\n",
    "        'mu': mu,\n",
    "        'sigma_squared': sigma_squared,\n",
    "        'a': a\n",
    "    }"
   ],
   "metadata": {
    "collapsed": false,
    "ExecuteTime": {
     "end_time": "2023-12-12T01:57:31.357719Z",
     "start_time": "2023-12-12T01:57:31.213840Z"
    }
   },
   "id": "2b870f0e5e5523d3"
  },
  {
   "cell_type": "code",
   "execution_count": 19,
   "outputs": [
    {
     "data": {
      "text/plain": "skupina\n0       5.021816\n1       4.392436\n2       5.827102\n3       4.531723\n4       5.461728\n          ...   \n9995    5.001767\n9996    5.771658\n9997    5.579720\n9998    5.063841\n9999    4.487418\nName: uloha_1 b)_prior, Length: 10000, dtype: float64"
     },
     "execution_count": 19,
     "metadata": {},
     "output_type": "execute_result"
    }
   ],
   "source": [
    "# max_per_group = data['1'].groupby('skupina')['uloha_1 b)_prior'].max().reset_index()\n",
    "max_per_group = data['1'].groupby('skupina')['uloha_1 b)_prior'].max()\n",
    "# max_per_group = data['1']\n",
    "max_per_group"
   ],
   "metadata": {
    "collapsed": false,
    "ExecuteTime": {
     "end_time": "2023-12-12T01:57:31.422782Z",
     "start_time": "2023-12-12T01:57:31.231296Z"
    }
   },
   "id": "817ffaa66ee6a0f7"
  },
  {
   "cell_type": "code",
   "execution_count": 20,
   "outputs": [
    {
     "data": {
      "text/plain": "<Figure size 640x480 with 1 Axes>",
      "image/png": "[encoded data removed]"
     },
     "metadata": {},
     "output_type": "display_data"
    }
   ],
   "source": [
    "aprior_data_max = data['1'].groupby('skupina')['uloha_1 b)_prior'].max().reset_index()\n",
    "\n",
    "# Získanie všetkých najväčších hodnôt do jednej dátovej sady\n",
    "all_max_values = aprior_data_max['uloha_1 b)_prior']\n",
    "\n",
    "# Určenie hraníc binov pre rovnomerné rozdelenie\n",
    "all_max_values.max()\n",
    "bin_width = (all_max_values.max() - all_max_values.min()) / 50\n",
    "bins = np.arange(all_max_values.min(), all_max_values.max(), bin_width)\n",
    "\n",
    "bin_height, bin_edges = np.histogram(all_max_values, bins=50)\n",
    "bin_height = bin_height / np.sum(bin_height)\n",
    "\n",
    "# Vytvorenie histogramu pre diskrétne rozdelenie\n",
    "# plt.hist(all_max_values, bins=bins, edgecolor='black', alpha=0.7,density=True)\n",
    "plt.bar(x=bins, height=bin_height, width=bin_width, color='blue', alpha=0.7)\n",
    "plt.show()\n",
    "\n"
   ],
   "metadata": {
    "collapsed": false,
    "ExecuteTime": {
     "end_time": "2023-12-12T01:57:31.642583Z",
     "start_time": "2023-12-12T01:57:31.322229Z"
    }
   },
   "id": "628a77e413383e56"
  },
  {
   "cell_type": "code",
   "execution_count": 21,
   "outputs": [
    {
     "data": {
      "text/plain": "<Figure size 640x480 with 1 Axes>",
      "image/png": "[encoded data removed]"
     },
     "metadata": {},
     "output_type": "display_data"
    }
   ],
   "source": [
    "# Likelihood function\n",
    "mu = 3\n",
    "sigma = np.sqrt(1)\n",
    "a = 1\n",
    "\n",
    "observed_data = task_1_b_cleared_data(data['1_b_prior'], data['1_b_observation'], data['1_g'])['observed_data']\n",
    "bin_centers = (bin_edges[:-1] + bin_edges[1:]) / 2\n",
    "likelihood = np.zeros(50)\n",
    "\n",
    "for i, b_center in enumerate(bin_centers):\n",
    "    a_truncnorm = (a - mu) / sigma\n",
    "    b_truncnorm = (b_center - mu) / sigma\n",
    "    pdf = stats.truncnorm.pdf(observed_data, a=a_truncnorm, b=b_truncnorm, loc=mu, scale=sigma)\n",
    "    pdf_product = np.prod(pdf)\n",
    "    likelihood[i] = pdf_product\n",
    "\n",
    "# likelihood\n",
    "likelihood_normalized = likelihood / np.sum(likelihood)\n",
    "plt.bar(x=bins, height=likelihood_normalized, width=bin_width, edgecolor='black', color='red', label='Likelyhood', alpha=0.7)\n",
    "plt.show()"
   ],
   "metadata": {
    "collapsed": false,
    "ExecuteTime": {
     "end_time": "2023-12-12T01:57:32.078432Z",
     "start_time": "2023-12-12T01:57:31.615344Z"
    }
   },
   "id": "cb387bc602394504"
  },
  {
   "cell_type": "code",
   "execution_count": 22,
   "outputs": [
    {
     "data": {
      "text/plain": "<Figure size 640x480 with 1 Axes>",
      "image/png": "[encoded data removed]"
     },
     "metadata": {},
     "output_type": "display_data"
    }
   ],
   "source": [
    "# Aposteriórna pst\n",
    "posterior_probs = likelihood * bin_height\n",
    "posterior_probs_normalized = posterior_probs / np.sum(posterior_probs)\n",
    "plt.bar(bin_centers, posterior_probs_normalized, width=bin_width, edgecolor='black', color='green', label='Aposteriórne rozdelenie', alpha=0.7)\n",
    "plt.show()"
   ],
   "metadata": {
    "collapsed": false,
    "ExecuteTime": {
     "end_time": "2023-12-12T01:57:32.294776Z",
     "start_time": "2023-12-12T01:57:31.947421Z"
    }
   },
   "id": "e49b338be019423d"
  },
  {
   "cell_type": "code",
   "execution_count": 23,
   "outputs": [
    {
     "data": {
      "text/plain": "<Figure size 640x480 with 1 Axes>",
      "image/png": "[encoded data removed]"
     },
     "metadata": {},
     "output_type": "display_data"
    }
   ],
   "source": [
    "# Plot apriorné rozdelenie\n",
    "plt.bar(x=bins, height=bin_height, width=bin_width, color='blue', alpha=0.8, edgecolor='black')\n",
    "plt.bar(bin_centers, posterior_probs_normalized, width=bin_width, edgecolor='black', color='green', label='Aposteriórne rozdelenie', alpha=0.8)\n",
    "plt.bar(bin_centers, likelihood_normalized, width=bin_width, edgecolor='black', color='red', label='Vierohodnosť', alpha=0.4)\n",
    "plt.show()\n",
    "\n"
   ],
   "metadata": {
    "collapsed": false,
    "ExecuteTime": {
     "end_time": "2023-12-12T01:57:32.633524Z",
     "start_time": "2023-12-12T01:57:32.256363Z"
    }
   },
   "id": "1219406f6c665f60"
  },
  {
   "cell_type": "code",
   "execution_count": 24,
   "outputs": [
    {
     "name": "stdout",
     "output_type": "stream",
     "text": [
      "95% Confidence Interval for Parameter b: 5.69371, 7.00891\n"
     ]
    }
   ],
   "source": [
    "# Určení 95% intervalu spolehlivosti\n",
    "cumulative_posterior = np.cumsum(posterior_probs_normalized)\n",
    "lower_bound = bin_centers[np.argmax(cumulative_posterior >= 0.025)]\n",
    "upper_bound = bin_centers[np.argmax(cumulative_posterior >= 0.975)]\n",
    "print(f'95% Confidence Interval for Parameter b: {lower_bound:.5f}, {upper_bound:.5f}')"
   ],
   "metadata": {
    "collapsed": false,
    "ExecuteTime": {
     "end_time": "2023-12-12T01:57:32.660933Z",
     "start_time": "2023-12-12T01:57:32.636248Z"
    }
   },
   "id": "b6877d64a8ca4a68"
  },
  {
   "cell_type": "code",
   "execution_count": 25,
   "outputs": [
    {
     "name": "stdout",
     "output_type": "stream",
     "text": [
      "First point estimate: 6.05277131983235\n",
      "Second point estimate: 5.693712028182375\n"
     ]
    }
   ],
   "source": [
    "# Vybrání dvou bodových odhadů\n",
    "mean = np.sum(bin_centers * posterior_probs_normalized)\n",
    "median = bin_centers[np.argmax(posterior_probs_normalized)]\n",
    "print(f'First point estimate: {mean}')\n",
    "print(f'Second point estimate: {median}') # Is this value OK?"
   ],
   "metadata": {
    "collapsed": false,
    "ExecuteTime": {
     "end_time": "2023-12-12T01:57:32.692746Z",
     "start_time": "2023-12-12T01:57:32.643129Z"
    }
   },
   "id": "c039f4eb0210239f"
  },
  {
   "cell_type": "markdown",
   "source": [
    "# ULOHA 2 - ÚLOHA 2 – Regrese – 8. bodů"
   ],
   "metadata": {
    "collapsed": false
   },
   "id": "9f3e569e488f4583"
  },
  {
   "cell_type": "code",
   "execution_count": 26,
   "outputs": [
    {
     "ename": "FileNotFoundError",
     "evalue": "[Errno 2] No such file or directory: 'Data_v1.0.csv'",
     "output_type": "error",
     "traceback": [
      "\u001B[0;31m---------------------------------------------------------------------------\u001B[0m",
      "\u001B[0;31mFileNotFoundError\u001B[0m                         Traceback (most recent call last)",
      "Cell \u001B[0;32mIn[26], line 2\u001B[0m\n\u001B[1;32m      1\u001B[0m \u001B[38;5;66;03m# Načtení dat\u001B[39;00m\n\u001B[0;32m----> 2\u001B[0m data \u001B[38;5;241m=\u001B[39m \u001B[43mpd\u001B[49m\u001B[38;5;241;43m.\u001B[39;49m\u001B[43mread_csv\u001B[49m\u001B[43m(\u001B[49m\u001B[38;5;124;43m'\u001B[39;49m\u001B[38;5;124;43mData_v1.0.csv\u001B[39;49m\u001B[38;5;124;43m'\u001B[39;49m\u001B[43m)\u001B[49m\n\u001B[1;32m      4\u001B[0m \u001B[38;5;66;03m# Přidání kvadratických termínů\u001B[39;00m\n\u001B[1;32m      5\u001B[0m data[\u001B[38;5;124m'\u001B[39m\u001B[38;5;124mActiveUsers_squared\u001B[39m\u001B[38;5;124m'\u001B[39m] \u001B[38;5;241m=\u001B[39m data[\u001B[38;5;124m'\u001B[39m\u001B[38;5;124mActiveUsers\u001B[39m\u001B[38;5;124m'\u001B[39m] \u001B[38;5;241m*\u001B[39m\u001B[38;5;241m*\u001B[39m \u001B[38;5;241m2\u001B[39m\n",
      "File \u001B[0;32m~/repos/msp-project2/venv/lib/python3.10/site-packages/pandas/io/parsers/readers.py:948\u001B[0m, in \u001B[0;36mread_csv\u001B[0;34m(filepath_or_buffer, sep, delimiter, header, names, index_col, usecols, dtype, engine, converters, true_values, false_values, skipinitialspace, skiprows, skipfooter, nrows, na_values, keep_default_na, na_filter, verbose, skip_blank_lines, parse_dates, infer_datetime_format, keep_date_col, date_parser, date_format, dayfirst, cache_dates, iterator, chunksize, compression, thousands, decimal, lineterminator, quotechar, quoting, doublequote, escapechar, comment, encoding, encoding_errors, dialect, on_bad_lines, delim_whitespace, low_memory, memory_map, float_precision, storage_options, dtype_backend)\u001B[0m\n\u001B[1;32m    935\u001B[0m kwds_defaults \u001B[38;5;241m=\u001B[39m _refine_defaults_read(\n\u001B[1;32m    936\u001B[0m     dialect,\n\u001B[1;32m    937\u001B[0m     delimiter,\n\u001B[0;32m   (...)\u001B[0m\n\u001B[1;32m    944\u001B[0m     dtype_backend\u001B[38;5;241m=\u001B[39mdtype_backend,\n\u001B[1;32m    945\u001B[0m )\n\u001B[1;32m    946\u001B[0m kwds\u001B[38;5;241m.\u001B[39mupdate(kwds_defaults)\n\u001B[0;32m--> 948\u001B[0m \u001B[38;5;28;01mreturn\u001B[39;00m \u001B[43m_read\u001B[49m\u001B[43m(\u001B[49m\u001B[43mfilepath_or_buffer\u001B[49m\u001B[43m,\u001B[49m\u001B[43m \u001B[49m\u001B[43mkwds\u001B[49m\u001B[43m)\u001B[49m\n",
      "File \u001B[0;32m~/repos/msp-project2/venv/lib/python3.10/site-packages/pandas/io/parsers/readers.py:611\u001B[0m, in \u001B[0;36m_read\u001B[0;34m(filepath_or_buffer, kwds)\u001B[0m\n\u001B[1;32m    608\u001B[0m _validate_names(kwds\u001B[38;5;241m.\u001B[39mget(\u001B[38;5;124m\"\u001B[39m\u001B[38;5;124mnames\u001B[39m\u001B[38;5;124m\"\u001B[39m, \u001B[38;5;28;01mNone\u001B[39;00m))\n\u001B[1;32m    610\u001B[0m \u001B[38;5;66;03m# Create the parser.\u001B[39;00m\n\u001B[0;32m--> 611\u001B[0m parser \u001B[38;5;241m=\u001B[39m \u001B[43mTextFileReader\u001B[49m\u001B[43m(\u001B[49m\u001B[43mfilepath_or_buffer\u001B[49m\u001B[43m,\u001B[49m\u001B[43m \u001B[49m\u001B[38;5;241;43m*\u001B[39;49m\u001B[38;5;241;43m*\u001B[39;49m\u001B[43mkwds\u001B[49m\u001B[43m)\u001B[49m\n\u001B[1;32m    613\u001B[0m \u001B[38;5;28;01mif\u001B[39;00m chunksize \u001B[38;5;129;01mor\u001B[39;00m iterator:\n\u001B[1;32m    614\u001B[0m     \u001B[38;5;28;01mreturn\u001B[39;00m parser\n",
      "File \u001B[0;32m~/repos/msp-project2/venv/lib/python3.10/site-packages/pandas/io/parsers/readers.py:1448\u001B[0m, in \u001B[0;36mTextFileReader.__init__\u001B[0;34m(self, f, engine, **kwds)\u001B[0m\n\u001B[1;32m   1445\u001B[0m     \u001B[38;5;28mself\u001B[39m\u001B[38;5;241m.\u001B[39moptions[\u001B[38;5;124m\"\u001B[39m\u001B[38;5;124mhas_index_names\u001B[39m\u001B[38;5;124m\"\u001B[39m] \u001B[38;5;241m=\u001B[39m kwds[\u001B[38;5;124m\"\u001B[39m\u001B[38;5;124mhas_index_names\u001B[39m\u001B[38;5;124m\"\u001B[39m]\n\u001B[1;32m   1447\u001B[0m \u001B[38;5;28mself\u001B[39m\u001B[38;5;241m.\u001B[39mhandles: IOHandles \u001B[38;5;241m|\u001B[39m \u001B[38;5;28;01mNone\u001B[39;00m \u001B[38;5;241m=\u001B[39m \u001B[38;5;28;01mNone\u001B[39;00m\n\u001B[0;32m-> 1448\u001B[0m \u001B[38;5;28mself\u001B[39m\u001B[38;5;241m.\u001B[39m_engine \u001B[38;5;241m=\u001B[39m \u001B[38;5;28;43mself\u001B[39;49m\u001B[38;5;241;43m.\u001B[39;49m\u001B[43m_make_engine\u001B[49m\u001B[43m(\u001B[49m\u001B[43mf\u001B[49m\u001B[43m,\u001B[49m\u001B[43m \u001B[49m\u001B[38;5;28;43mself\u001B[39;49m\u001B[38;5;241;43m.\u001B[39;49m\u001B[43mengine\u001B[49m\u001B[43m)\u001B[49m\n",
      "File \u001B[0;32m~/repos/msp-project2/venv/lib/python3.10/site-packages/pandas/io/parsers/readers.py:1705\u001B[0m, in \u001B[0;36mTextFileReader._make_engine\u001B[0;34m(self, f, engine)\u001B[0m\n\u001B[1;32m   1703\u001B[0m     \u001B[38;5;28;01mif\u001B[39;00m \u001B[38;5;124m\"\u001B[39m\u001B[38;5;124mb\u001B[39m\u001B[38;5;124m\"\u001B[39m \u001B[38;5;129;01mnot\u001B[39;00m \u001B[38;5;129;01min\u001B[39;00m mode:\n\u001B[1;32m   1704\u001B[0m         mode \u001B[38;5;241m+\u001B[39m\u001B[38;5;241m=\u001B[39m \u001B[38;5;124m\"\u001B[39m\u001B[38;5;124mb\u001B[39m\u001B[38;5;124m\"\u001B[39m\n\u001B[0;32m-> 1705\u001B[0m \u001B[38;5;28mself\u001B[39m\u001B[38;5;241m.\u001B[39mhandles \u001B[38;5;241m=\u001B[39m \u001B[43mget_handle\u001B[49m\u001B[43m(\u001B[49m\n\u001B[1;32m   1706\u001B[0m \u001B[43m    \u001B[49m\u001B[43mf\u001B[49m\u001B[43m,\u001B[49m\n\u001B[1;32m   1707\u001B[0m \u001B[43m    \u001B[49m\u001B[43mmode\u001B[49m\u001B[43m,\u001B[49m\n\u001B[1;32m   1708\u001B[0m \u001B[43m    \u001B[49m\u001B[43mencoding\u001B[49m\u001B[38;5;241;43m=\u001B[39;49m\u001B[38;5;28;43mself\u001B[39;49m\u001B[38;5;241;43m.\u001B[39;49m\u001B[43moptions\u001B[49m\u001B[38;5;241;43m.\u001B[39;49m\u001B[43mget\u001B[49m\u001B[43m(\u001B[49m\u001B[38;5;124;43m\"\u001B[39;49m\u001B[38;5;124;43mencoding\u001B[39;49m\u001B[38;5;124;43m\"\u001B[39;49m\u001B[43m,\u001B[49m\u001B[43m \u001B[49m\u001B[38;5;28;43;01mNone\u001B[39;49;00m\u001B[43m)\u001B[49m\u001B[43m,\u001B[49m\n\u001B[1;32m   1709\u001B[0m \u001B[43m    \u001B[49m\u001B[43mcompression\u001B[49m\u001B[38;5;241;43m=\u001B[39;49m\u001B[38;5;28;43mself\u001B[39;49m\u001B[38;5;241;43m.\u001B[39;49m\u001B[43moptions\u001B[49m\u001B[38;5;241;43m.\u001B[39;49m\u001B[43mget\u001B[49m\u001B[43m(\u001B[49m\u001B[38;5;124;43m\"\u001B[39;49m\u001B[38;5;124;43mcompression\u001B[39;49m\u001B[38;5;124;43m\"\u001B[39;49m\u001B[43m,\u001B[49m\u001B[43m \u001B[49m\u001B[38;5;28;43;01mNone\u001B[39;49;00m\u001B[43m)\u001B[49m\u001B[43m,\u001B[49m\n\u001B[1;32m   1710\u001B[0m \u001B[43m    \u001B[49m\u001B[43mmemory_map\u001B[49m\u001B[38;5;241;43m=\u001B[39;49m\u001B[38;5;28;43mself\u001B[39;49m\u001B[38;5;241;43m.\u001B[39;49m\u001B[43moptions\u001B[49m\u001B[38;5;241;43m.\u001B[39;49m\u001B[43mget\u001B[49m\u001B[43m(\u001B[49m\u001B[38;5;124;43m\"\u001B[39;49m\u001B[38;5;124;43mmemory_map\u001B[39;49m\u001B[38;5;124;43m\"\u001B[39;49m\u001B[43m,\u001B[49m\u001B[43m \u001B[49m\u001B[38;5;28;43;01mFalse\u001B[39;49;00m\u001B[43m)\u001B[49m\u001B[43m,\u001B[49m\n\u001B[1;32m   1711\u001B[0m \u001B[43m    \u001B[49m\u001B[43mis_text\u001B[49m\u001B[38;5;241;43m=\u001B[39;49m\u001B[43mis_text\u001B[49m\u001B[43m,\u001B[49m\n\u001B[1;32m   1712\u001B[0m \u001B[43m    \u001B[49m\u001B[43merrors\u001B[49m\u001B[38;5;241;43m=\u001B[39;49m\u001B[38;5;28;43mself\u001B[39;49m\u001B[38;5;241;43m.\u001B[39;49m\u001B[43moptions\u001B[49m\u001B[38;5;241;43m.\u001B[39;49m\u001B[43mget\u001B[49m\u001B[43m(\u001B[49m\u001B[38;5;124;43m\"\u001B[39;49m\u001B[38;5;124;43mencoding_errors\u001B[39;49m\u001B[38;5;124;43m\"\u001B[39;49m\u001B[43m,\u001B[49m\u001B[43m \u001B[49m\u001B[38;5;124;43m\"\u001B[39;49m\u001B[38;5;124;43mstrict\u001B[39;49m\u001B[38;5;124;43m\"\u001B[39;49m\u001B[43m)\u001B[49m\u001B[43m,\u001B[49m\n\u001B[1;32m   1713\u001B[0m \u001B[43m    \u001B[49m\u001B[43mstorage_options\u001B[49m\u001B[38;5;241;43m=\u001B[39;49m\u001B[38;5;28;43mself\u001B[39;49m\u001B[38;5;241;43m.\u001B[39;49m\u001B[43moptions\u001B[49m\u001B[38;5;241;43m.\u001B[39;49m\u001B[43mget\u001B[49m\u001B[43m(\u001B[49m\u001B[38;5;124;43m\"\u001B[39;49m\u001B[38;5;124;43mstorage_options\u001B[39;49m\u001B[38;5;124;43m\"\u001B[39;49m\u001B[43m,\u001B[49m\u001B[43m \u001B[49m\u001B[38;5;28;43;01mNone\u001B[39;49;00m\u001B[43m)\u001B[49m\u001B[43m,\u001B[49m\n\u001B[1;32m   1714\u001B[0m \u001B[43m\u001B[49m\u001B[43m)\u001B[49m\n\u001B[1;32m   1715\u001B[0m \u001B[38;5;28;01massert\u001B[39;00m \u001B[38;5;28mself\u001B[39m\u001B[38;5;241m.\u001B[39mhandles \u001B[38;5;129;01mis\u001B[39;00m \u001B[38;5;129;01mnot\u001B[39;00m \u001B[38;5;28;01mNone\u001B[39;00m\n\u001B[1;32m   1716\u001B[0m f \u001B[38;5;241m=\u001B[39m \u001B[38;5;28mself\u001B[39m\u001B[38;5;241m.\u001B[39mhandles\u001B[38;5;241m.\u001B[39mhandle\n",
      "File \u001B[0;32m~/repos/msp-project2/venv/lib/python3.10/site-packages/pandas/io/common.py:863\u001B[0m, in \u001B[0;36mget_handle\u001B[0;34m(path_or_buf, mode, encoding, compression, memory_map, is_text, errors, storage_options)\u001B[0m\n\u001B[1;32m    858\u001B[0m \u001B[38;5;28;01melif\u001B[39;00m \u001B[38;5;28misinstance\u001B[39m(handle, \u001B[38;5;28mstr\u001B[39m):\n\u001B[1;32m    859\u001B[0m     \u001B[38;5;66;03m# Check whether the filename is to be opened in binary mode.\u001B[39;00m\n\u001B[1;32m    860\u001B[0m     \u001B[38;5;66;03m# Binary mode does not support 'encoding' and 'newline'.\u001B[39;00m\n\u001B[1;32m    861\u001B[0m     \u001B[38;5;28;01mif\u001B[39;00m ioargs\u001B[38;5;241m.\u001B[39mencoding \u001B[38;5;129;01mand\u001B[39;00m \u001B[38;5;124m\"\u001B[39m\u001B[38;5;124mb\u001B[39m\u001B[38;5;124m\"\u001B[39m \u001B[38;5;129;01mnot\u001B[39;00m \u001B[38;5;129;01min\u001B[39;00m ioargs\u001B[38;5;241m.\u001B[39mmode:\n\u001B[1;32m    862\u001B[0m         \u001B[38;5;66;03m# Encoding\u001B[39;00m\n\u001B[0;32m--> 863\u001B[0m         handle \u001B[38;5;241m=\u001B[39m \u001B[38;5;28;43mopen\u001B[39;49m\u001B[43m(\u001B[49m\n\u001B[1;32m    864\u001B[0m \u001B[43m            \u001B[49m\u001B[43mhandle\u001B[49m\u001B[43m,\u001B[49m\n\u001B[1;32m    865\u001B[0m \u001B[43m            \u001B[49m\u001B[43mioargs\u001B[49m\u001B[38;5;241;43m.\u001B[39;49m\u001B[43mmode\u001B[49m\u001B[43m,\u001B[49m\n\u001B[1;32m    866\u001B[0m \u001B[43m            \u001B[49m\u001B[43mencoding\u001B[49m\u001B[38;5;241;43m=\u001B[39;49m\u001B[43mioargs\u001B[49m\u001B[38;5;241;43m.\u001B[39;49m\u001B[43mencoding\u001B[49m\u001B[43m,\u001B[49m\n\u001B[1;32m    867\u001B[0m \u001B[43m            \u001B[49m\u001B[43merrors\u001B[49m\u001B[38;5;241;43m=\u001B[39;49m\u001B[43merrors\u001B[49m\u001B[43m,\u001B[49m\n\u001B[1;32m    868\u001B[0m \u001B[43m            \u001B[49m\u001B[43mnewline\u001B[49m\u001B[38;5;241;43m=\u001B[39;49m\u001B[38;5;124;43m\"\u001B[39;49m\u001B[38;5;124;43m\"\u001B[39;49m\u001B[43m,\u001B[49m\n\u001B[1;32m    869\u001B[0m \u001B[43m        \u001B[49m\u001B[43m)\u001B[49m\n\u001B[1;32m    870\u001B[0m     \u001B[38;5;28;01melse\u001B[39;00m:\n\u001B[1;32m    871\u001B[0m         \u001B[38;5;66;03m# Binary mode\u001B[39;00m\n\u001B[1;32m    872\u001B[0m         handle \u001B[38;5;241m=\u001B[39m \u001B[38;5;28mopen\u001B[39m(handle, ioargs\u001B[38;5;241m.\u001B[39mmode)\n",
      "\u001B[0;31mFileNotFoundError\u001B[0m: [Errno 2] No such file or directory: 'Data_v1.0.csv'"
     ]
    }
   ],
   "source": [
    "# Načtení dat\n",
    "data = pd.read_csv('Data_v1.0.csv')\n",
    "\n",
    "# Přidání kvadratických termínů\n",
    "data['ActiveUsers_squared'] = data['ActiveUsers'] ** 2\n",
    "data['InteractingPct_squared'] = data['InteractingPct'] ** 2\n",
    "data['ScrollingPct_squared'] = data['ScrollingPct'] ** 2\n",
    "\n",
    "# Přidání interakcí druhého řádu\n",
    "data['ActiveUsers_InteractingPct'] = data['ActiveUsers'] * data['InteractingPct']\n",
    "data['ActiveUsers_ScrollingPct'] = data['ActiveUsers'] * data['ScrollingPct']\n",
    "data['InteractingPct_ScrollingPct'] = data['InteractingPct'] * data['ScrollingPct']\n",
    "\n",
    "# Plný kvadratický model\n",
    "model_formula = 'ping ~ ActiveUsers + InteractingPct + ScrollingPct + ActiveUsers_squared + InteractingPct_squared + ScrollingPct_squared + ActiveUsers_InteractingPct + ActiveUsers_ScrollingPct + InteractingPct_ScrollingPct + OSType'\n",
    "\n",
    "# Fit regresního modelu\n",
    "model = sm.OLS.from_formula(model_formula, data=data)\n",
    "results = model.fit()\n",
    "\n",
    "# Výpis výsledků\n",
    "print(results.summary())\n",
    "\n",
    "# Regresní diagnostika\n",
    "sns.residplot(x=results.fittedvalues, y=results.resid)\n",
    "plt.xlabel('Fitted values')\n",
    "plt.ylabel('Residuals')\n",
    "plt.title('Residuals vs Fitted')\n",
    "plt.show()\n",
    "\n",
    "# Test normality reziduí\n",
    "sm.qqplot(results.resid, line='s')\n",
    "plt.title('Normal Q-Q plot')\n",
    "plt.show()\n",
    "\n",
    "# VIF pro detekci multicollinearity\n",
    "X = data[['ActiveUsers', 'InteractingPct', 'ScrollingPct', 'ActiveUsers_squared', 'InteractingPct_squared',\n",
    "          'ScrollingPct_squared', 'ActiveUsers_InteractingPct', 'ActiveUsers_ScrollingPct',\n",
    "          'InteractingPct_ScrollingPct']]\n",
    "vif_data = pd.DataFrame()\n",
    "vif_data['Variable'] = X.columns\n",
    "vif_data['VIF'] = [variance_inflation_factor(X.values, i) for i in range(X.shape[1])]\n",
    "print(vif_data)\n",
    "\n",
    "# Identifikace odlehlých hodnot\n",
    "influence = results.get_influence()\n",
    "leverage = influence.hat_matrix_diag\n",
    "residuals_studentized = influence.resid_studentized_internal\n",
    "outliers = np.where((np.abs(residuals_studentized) > 2) | (leverage > 0.02))\n",
    "\n",
    "# Vyhodnocení výsledků a rozhodnutí o odstranění odlehlých hodnot (pokud je to nutné)\n",
    "\n",
    "# Analýza parametrů\n",
    "param_analysis = results.params\n",
    "\n",
    "# Identifikace nejproblematičtější hodnoty\n",
    "max_residual = data.loc[outliers[0], 'ping'].max()\n",
    "\n",
    "# Odhad odezvy uživatele s Windows\n",
    "windows_user = pd.DataFrame({'ActiveUsers': [data['ActiveUsers'].mean()],\n",
    "                             'InteractingPct': [data['InteractingPct'].mean()],\n",
    "                             'ScrollingPct': [data['ScrollingPct'].mean()],\n",
    "                             'ActiveUsers_squared': [data['ActiveUsers_squared'].mean()],\n",
    "                             'InteractingPct_squared': [data['InteractingPct_squared'].mean()],\n",
    "                             'ScrollingPct_squared': [data['ScrollingPct_squared'].mean()],\n",
    "                             'ActiveUsers_InteractingPct': [data['ActiveUsers_InteractingPct'].mean()],\n",
    "                             'ActiveUsers_ScrollingPct': [data['ActiveUsers_ScrollingPct'].mean()],\n",
    "                             'InteractingPct_ScrollingPct': [data['InteractingPct_ScrollingPct'].mean()],\n",
    "                             'OSType': ['Windows']})\n",
    "predicted_ping = results.predict(windows_user)\n",
    "\n",
    "# Konfidenční interval a predikční interval\n",
    "conf_interval = results.get_prediction(windows_user).conf_int()\n",
    "pred_interval = results.get_prediction(windows_user).conf_int(obs=True)\n",
    "\n",
    "# Vyhodnocení modelu pro další použití\n",
    "# Zde můžete diskutovat o tom, zda jsou výsledky modelu uspokojivé a zdali je model vhodný pro další použití.\n"
   ],
   "metadata": {
    "collapsed": false,
    "ExecuteTime": {
     "end_time": "2023-12-12T01:57:35.950877Z",
     "start_time": "2023-12-12T01:57:34.358523Z"
    }
   },
   "id": "e42d89a374cadf31"
  },
  {
   "cell_type": "code",
   "execution_count": null,
   "outputs": [],
   "source": [],
   "metadata": {
    "collapsed": false
   },
   "id": "5f9d918134eb8617"
  }
 ],
 "metadata": {
  "kernelspec": {
   "display_name": "Python 3",
   "language": "python",
   "name": "python3"
  },
  "language_info": {
   "codemirror_mode": {
    "name": "ipython",
    "version": 2
   },
   "file_extension": ".py",
   "mimetype": "text/x-python",
   "name": "python",
   "nbconvert_exporter": "python",
   "pygments_lexer": "ipython2",
   "version": "2.7.6"
  }
 },
 "nbformat": 4,
 "nbformat_minor": 5
}
