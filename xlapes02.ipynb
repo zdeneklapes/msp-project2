{
 "cells": [
  {
   "cell_type": "code",
   "execution_count": 64,
   "id": "initial_id",
   "metadata": {
    "collapsed": true,
    "ExecuteTime": {
     "end_time": "2023-12-11T19:54:17.848544Z",
     "start_time": "2023-12-11T19:54:17.838974Z"
    }
   },
   "outputs": [],
   "source": [
    "import numpy as np\n",
    "import matplotlib.pyplot as plt\n",
    "import scipy.stats as stats\n",
    "import pandas as pd\n",
    "from scipy import stats\n",
    "import statsmodels.api as sm\n",
    "from statsmodels.stats.outliers_influence import variance_inflation_factor\n",
    "import seaborn as sns\n",
    "\n",
    "DEBUG = False\n",
    "\n",
    "# Dark theme\n",
    "plt.style.use('dark_background')\n",
    "\n",
    "# set grid thickness\n",
    "plt.rcParams['grid.linewidth'] = 0.3\n",
    "\n",
    "\n",
    "def print_debug(*args, **kwargs):\n",
    "    global DEBUG\n",
    "    if DEBUG:\n",
    "        print(*args, **kwargs)"
   ]
  },
  {
   "cell_type": "markdown",
   "source": [
    "# Nacteni dat"
   ],
   "metadata": {
    "collapsed": false
   },
   "id": "8faa4d901f97b7ca"
  },
  {
   "cell_type": "code",
   "execution_count": 65,
   "outputs": [
    {
     "name": "stdout",
     "output_type": "stream",
     "text": [
      "['Úloha 1', 'Úloha 2']\n"
     ]
    }
   ],
   "source": [
    "DEBUG = True\n",
    "excel_file = pd.ExcelFile(\"Projekt-2_Data.xlsx\")\n",
    "print_debug(excel_file.sheet_names)\n",
    "\n",
    "df_uloha_1: pd.DataFrame = excel_file.parse(excel_file.sheet_names[0])"
   ],
   "metadata": {
    "collapsed": false,
    "ExecuteTime": {
     "end_time": "2023-12-11T19:54:22.679248Z",
     "start_time": "2023-12-11T19:54:18.260382Z"
    }
   },
   "id": "2b35686f6ec7b1cb"
  },
  {
   "cell_type": "code",
   "execution_count": 66,
   "outputs": [
    {
     "name": "stdout",
     "output_type": "stream",
     "text": [
      "   uloha_1 a)  uloha_1 b)_prior  skupina  uloha_1 b)_pozorování\n",
      "0         2.0          3.634785        0               3.626656\n",
      "1         2.0          2.868113        0               3.008269\n",
      "2         1.0          2.149160        0               2.989829\n",
      "3         3.0          4.263065        0               2.371630\n",
      "4         0.0          2.594745        0               4.009366\n",
      "5         1.0          2.592284        0               4.600547\n",
      "6         1.0          5.021816        0               4.383425\n",
      "7         3.0          3.129964        0               1.829917\n",
      "8         2.0          3.850485        0               4.794679\n",
      "9         2.0          4.483024        0               2.134915\n"
     ]
    }
   ],
   "source": [
    "DEBUG = True\n",
    "# type(df_uloha_1)\n",
    "print_debug(df_uloha_1.head(n=10))"
   ],
   "metadata": {
    "collapsed": false,
    "ExecuteTime": {
     "end_time": "2023-12-11T19:54:22.691055Z",
     "start_time": "2023-12-11T19:54:22.685229Z"
    }
   },
   "id": "d4137cad96002941"
  },
  {
   "cell_type": "code",
   "execution_count": 67,
   "outputs": [
    {
     "name": "stdout",
     "output_type": "stream",
     "text": [
      "    OSType  ActiveUsers  InteractingPct  ScrollingPct  Ping [ms]\n",
      "0      iOS         4113          0.8283        0.1717         47\n",
      "1      iOS         7549          0.3461        0.6539         46\n",
      "2  Windows         8855          0.2178        0.7822         55\n",
      "3  Android         8870          0.0794        0.9206         56\n",
      "4    MacOS         9559          0.7282        0.2718         76\n"
     ]
    }
   ],
   "source": [
    "DEBUG = True\n",
    "df_uloha_2 = excel_file.parse(excel_file.sheet_names[1])\n",
    "print_debug(df_uloha_2.head())"
   ],
   "metadata": {
    "collapsed": false,
    "ExecuteTime": {
     "end_time": "2023-12-11T19:54:22.758118Z",
     "start_time": "2023-12-11T19:54:22.692825Z"
    }
   },
   "id": "90a1e1ed62ddd8a2"
  },
  {
   "cell_type": "markdown",
   "source": [
    "# ULOHA 1 - Bayesovske odhady"
   ],
   "metadata": {
    "collapsed": false
   },
   "id": "ea8e6d01d0bc2356"
  },
  {
   "cell_type": "markdown",
   "source": [
    "## ULOHA 1.a - Konjugované apriorní a aposteriorní rozdělení, prediktivní rozdělení [2 body]"
   ],
   "metadata": {
    "collapsed": false
   },
   "id": "9c2fd2c0a26ad612"
  },
  {
   "cell_type": "code",
   "execution_count": 68,
   "outputs": [],
   "source": [
    "connections = 10\n",
    "time = 5\n",
    "info_df1 = df_uloha_1['uloha_1 a)']"
   ],
   "metadata": {
    "collapsed": false,
    "ExecuteTime": {
     "end_time": "2023-12-11T19:54:22.774223Z",
     "start_time": "2023-12-11T19:54:22.754828Z"
    }
   },
   "id": "4b3113fea612dc3f"
  },
  {
   "cell_type": "code",
   "execution_count": 69,
   "outputs": [
    {
     "data": {
      "text/plain": "0    2.0\n1    2.0\n2    1.0\n3    3.0\n4    0.0\nName: uloha_1 a), dtype: float64"
     },
     "execution_count": 69,
     "metadata": {},
     "output_type": "execute_result"
    }
   ],
   "source": [
    "info_df1.head()"
   ],
   "metadata": {
    "collapsed": false,
    "ExecuteTime": {
     "end_time": "2023-12-11T19:54:22.774983Z",
     "start_time": "2023-12-11T19:54:22.765692Z"
    }
   },
   "id": "fc6cf247f1c1d7ff"
  },
  {
   "cell_type": "code",
   "execution_count": 70,
   "outputs": [
    {
     "name": "stdout",
     "output_type": "stream",
     "text": [
      "alpha=1\n",
      "beta=1\n",
      "observed_data=array([ 2.,  2.,  1., ..., nan, nan, nan])\n"
     ]
    },
    {
     "data": {
      "text/plain": "array([], dtype=float64)"
     },
     "execution_count": 70,
     "metadata": {},
     "output_type": "execute_result"
    }
   ],
   "source": [
    "DEBUG = True\n",
    "# Conjugate apriori distribution\n",
    "distribution = stats.gamma\n",
    "alpha = 1\n",
    "print_debug(f\"{alpha=}\")\n",
    "beta = 1\n",
    "print_debug(f\"{beta=}\")\n",
    "\n",
    "# Observed data\n",
    "observed_data = info_df1.values\n",
    "print_debug(f\"{observed_data=}\")\n",
    "\n",
    "# Get bad values\n",
    "observed_data[observed_data > time]"
   ],
   "metadata": {
    "collapsed": false,
    "ExecuteTime": {
     "end_time": "2023-12-11T19:54:22.916158Z",
     "start_time": "2023-12-11T19:54:22.775609Z"
    }
   },
   "id": "912e793221da1817"
  },
  {
   "cell_type": "markdown",
   "source": [
    "### Cleaning data\n",
    "- Remove outliers"
   ],
   "metadata": {
    "collapsed": false
   },
   "id": "d950a36ee0539304"
  },
  {
   "cell_type": "code",
   "execution_count": 71,
   "outputs": [
    {
     "name": "stdout",
     "output_type": "stream",
     "text": [
      "observed_data=array([ 2.,  2.,  1., ..., nan, nan, nan])\n",
      "len(observed_data)=100000\n",
      "observed_data=array([2., 2., 1., 3., 0., 1., 1., 3., 2., 2., 3., 1., 5., 3., 1., 1., 2.,\n",
      "       1., 1., 1., 2., 3., 2., 0., 3., 1., 2., 1., 5., 1., 0., 0., 2., 1.,\n",
      "       1., 0., 0., 1., 3., 1., 0., 1., 2., 0., 1., 3., 0., 1., 1., 4., 1.,\n",
      "       2., 1., 1., 2., 4., 2., 2., 3., 4., 4., 4., 0., 2., 0., 0., 3., 5.,\n",
      "       1., 2., 1., 0., 1., 1., 4., 1., 1., 3., 0., 1., 2., 2., 2., 3., 1.,\n",
      "       2., 2., 2., 1., 2., 2., 1., 0., 1., 1., 3., 0., 3., 1., 1.])\n",
      "len(observed_data)=100\n",
      "z_scores=array([ 0.27358924,  0.27358924, -0.531085  ,  1.07826349, -1.33575925,\n",
      "       -0.531085  , -0.531085  ,  1.07826349,  0.27358924,  0.27358924,\n",
      "        1.07826349, -0.531085  ,  2.68761199,  1.07826349, -0.531085  ,\n",
      "       -0.531085  ,  0.27358924, -0.531085  , -0.531085  , -0.531085  ,\n",
      "        0.27358924,  1.07826349,  0.27358924, -1.33575925,  1.07826349,\n",
      "       -0.531085  ,  0.27358924, -0.531085  ,  2.68761199, -0.531085  ,\n",
      "       -1.33575925, -1.33575925,  0.27358924, -0.531085  , -0.531085  ,\n",
      "       -1.33575925, -1.33575925, -0.531085  ,  1.07826349, -0.531085  ,\n",
      "       -1.33575925, -0.531085  ,  0.27358924, -1.33575925, -0.531085  ,\n",
      "        1.07826349, -1.33575925, -0.531085  , -0.531085  ,  1.88293774,\n",
      "       -0.531085  ,  0.27358924, -0.531085  , -0.531085  ,  0.27358924,\n",
      "        1.88293774,  0.27358924,  0.27358924,  1.07826349,  1.88293774,\n",
      "        1.88293774,  1.88293774, -1.33575925,  0.27358924, -1.33575925,\n",
      "       -1.33575925,  1.07826349,  2.68761199, -0.531085  ,  0.27358924,\n",
      "       -0.531085  , -1.33575925, -0.531085  , -0.531085  ,  1.88293774,\n",
      "       -0.531085  , -0.531085  ,  1.07826349, -1.33575925, -0.531085  ,\n",
      "        0.27358924,  0.27358924,  0.27358924,  1.07826349, -0.531085  ,\n",
      "        0.27358924,  0.27358924,  0.27358924, -0.531085  ,  0.27358924,\n",
      "        0.27358924, -0.531085  , -1.33575925, -0.531085  , -0.531085  ,\n",
      "        1.07826349, -1.33575925,  1.07826349, -0.531085  , -0.531085  ])\n",
      "len(observed_data)=100\n",
      "filtered_data=array([2., 2., 1., 3., 0., 1., 1., 3., 2., 2., 3., 1., 5., 3., 1., 1., 2.,\n",
      "       1., 1., 1., 2., 3., 2., 0., 3., 1., 2., 1., 5., 1., 0., 0., 2., 1.,\n",
      "       1., 0., 0., 1., 3., 1., 0., 1., 2., 0., 1., 3., 0., 1., 1., 4., 1.,\n",
      "       2., 1., 1., 2., 4., 2., 2., 3., 4., 4., 4., 0., 2., 0., 0., 3., 5.,\n",
      "       1., 2., 1., 0., 1., 1., 4., 1., 1., 3., 0., 1., 2., 2., 2., 3., 1.,\n",
      "       2., 2., 2., 1., 2., 2., 1., 0., 1., 1., 3., 0., 3., 1., 1.])\n",
      "len(observed_data)=100\n",
      "Number of removed outliers: 99900\n"
     ]
    }
   ],
   "source": [
    "DEBUG = 1\n",
    "# Extract observed data\n",
    "observed_data = df_uloha_1['uloha_1 a)'].values\n",
    "print_debug(f\"{observed_data=}\")\n",
    "print_debug(f\"{len(observed_data)=}\")\n",
    "\n",
    "# remove nan or +-inf values\n",
    "observed_data = observed_data[~np.isnan(observed_data)]\n",
    "print_debug(f\"{observed_data=}\")\n",
    "print_debug(f\"{len(observed_data)=}\")\n",
    "\n",
    "# Calculate Z-scores\n",
    "z_scores = stats.zscore(observed_data, nan_policy='raise')\n",
    "print_debug(f\"{z_scores=}\")\n",
    "print_debug(f\"{len(observed_data)=}\")\n",
    "\n",
    "# Define a threshold for outliers (e.g., 3 standard deviations)\n",
    "threshold = 3\n",
    "\n",
    "# Filter out rows with Z-scores beyond the threshold\n",
    "filtered_data = observed_data[(np.abs(z_scores) < threshold)]\n",
    "print_debug(f\"{filtered_data=}\")\n",
    "print_debug(f\"{len(observed_data)=}\")\n",
    "\n",
    "# Display the number of removed outliers\n",
    "print_debug(f\"Number of removed outliers: {len(df_uloha_1['uloha_1 a)'].values) - len(filtered_data)}\")"
   ],
   "metadata": {
    "collapsed": false,
    "ExecuteTime": {
     "end_time": "2023-12-11T19:54:22.917696Z",
     "start_time": "2023-12-11T19:54:22.786261Z"
    }
   },
   "id": "f0b7e45aa6d063d0"
  },
  {
   "cell_type": "markdown",
   "source": [
    "## ULOHA 1.a.1 - Do jednoho obrázku vykreslíte apriorní a aposteriorní hustotou parametru Poissonova rozdělení $\\lambda$."
   ],
   "metadata": {
    "collapsed": false
   },
   "id": "eb3e90d9765568cd"
  },
  {
   "cell_type": "code",
   "execution_count": 72,
   "outputs": [
    {
     "name": "stdout",
     "output_type": "stream",
     "text": [
      "lambda_prior=2.0\n",
      "lambda_posterior=1.6761904761904762\n"
     ]
    },
    {
     "data": {
      "text/plain": "<Figure size 640x480 with 1 Axes>",
      "image/png": "[encoded data removed]"
     },
     "metadata": {},
     "output_type": "display_data"
    }
   ],
   "source": [
    "DEBUG = True\n",
    "\n",
    "# Expertní odhad parametru λ\n",
    "lambda_expert = 10 / 5  # 10 připojení za 5 ms\n",
    "\n",
    "# Prior\n",
    "alpha_prior = 10  # connection count\n",
    "# alpha_prior = 2\n",
    "beta_prior = 5  # time within the connection count (alpha_prior) was observed\n",
    "# beta_prior = 1\n",
    "\n",
    "# lambda prior\n",
    "lambda_prior = alpha_prior / beta_prior\n",
    "print_debug(f\"{lambda_prior=}\")\n",
    "\n",
    "# posterior\n",
    "alpha_posterior = alpha_prior + np.sum(filtered_data)\n",
    "beta_posterior = beta_prior + len(filtered_data)\n",
    "\n",
    "# lambda_posterior\n",
    "lambda_posterior = alpha_posterior / beta_posterior\n",
    "print_debug(f\"{lambda_posterior=}\")\n",
    "\n",
    "# Plot prior and posterior distributions\n",
    "# x = np.linspace(np.min(filtered_data), np.max(filtered_data), 1000)\n",
    "x = np.linspace(0, np.max(filtered_data), 1000)\n",
    "# x = np.linspace(0, 10, 1000)\n",
    "# x = np.linspace(0, 2 * lambda_expert, 1000)\n",
    "# plt.figure(figsize=(10, 6))\n",
    "\n",
    "y = stats.gamma.pdf(x, alpha_prior, scale=1 / beta_prior)\n",
    "# y = stats.gamma.pdf(x, a=alpha_prior, scale=1/beta_prior)\n",
    "# y = stats.gamma.pdf(x, alpha_prior, scale=1)\n",
    "plt.plot(x, y, label='Prior', color='blue')\n",
    "\n",
    "# Posterior\n",
    "y = stats.gamma.pdf(x, alpha_posterior, scale=1 / beta_posterior)\n",
    "# y = stats.gamma.pdf(x, a=alpha_posterior, scale=1/beta_posterior)\n",
    "# y = stats.gamma.pdf(x, alpha_posterior, scale=1)\n",
    "plt.plot(x, y, label='Posterior', color='red')\n",
    "\n",
    "plt.title('Prior and Posterior Distributions')\n",
    "plt.xlabel('Lambda')\n",
    "plt.ylabel('Probability Density')\n",
    "plt.legend()\n",
    "plt.show()"
   ],
   "metadata": {
    "collapsed": false,
    "ExecuteTime": {
     "end_time": "2023-12-11T19:54:23.127462Z",
     "start_time": "2023-12-11T19:54:22.799140Z"
    }
   },
   "id": "89818cc14c30c52b"
  },
  {
   "cell_type": "markdown",
   "source": [
    "## ULOHA 1.a.2 - Do jednoho obrázku vykreslíte apriorní a aposteriorní prediktivní hustotou pozorovaní $x$ za jeden časový interval."
   ],
   "metadata": {
    "collapsed": false
   },
   "id": "61f0af1e772456ac"
  },
  {
   "cell_type": "code",
   "execution_count": 73,
   "outputs": [
    {
     "name": "stdout",
     "output_type": "stream",
     "text": [
      "lambda_prior=2.0\n",
      "lambda_posterior=1.6761904761904762\n"
     ]
    },
    {
     "data": {
      "text/plain": "<Figure size 640x480 with 1 Axes>",
      "image/png": "[encoded data removed]"
     },
     "metadata": {},
     "output_type": "display_data"
    }
   ],
   "source": [
    "# Bayesian updating\n",
    "alpha_prior = 10  # connection count\n",
    "# alpha_prior = 2\n",
    "beta_prior = 5  # time within the connection count (alpha_prior) was observed\n",
    "# beta_prior = 1\n",
    "\n",
    "lambda_prior = alpha_prior / beta_prior\n",
    "print(f\"{lambda_prior=}\")\n",
    "\n",
    "alpha_posterior = alpha_prior + np.sum(filtered_data)  # Assuming filtered_data is defined\n",
    "beta_posterior = beta_prior + len(filtered_data)\n",
    "\n",
    "lambda_posterior = alpha_posterior / beta_posterior\n",
    "print(f\"{lambda_posterior=}\")\n",
    "\n",
    "# Plot prior and posterior distributions\n",
    "# x = np.linspace(0, np.max(filtered_data), 1000)\n",
    "# print_debug(f\"{x=}\")\n",
    "x = range(0, 6)\n",
    "# x = np.linspace(np.min(filtered_data), np.max(filtered_data), 1000)\n",
    "# print_debug(f\"{x=}\")\n",
    "# plt.figure(figsize=(10, 6))\n",
    "\n",
    "# Prior predictive density\n",
    "y = stats.nbinom.pmf(x, alpha_prior, beta_prior / (1 + beta_prior))\n",
    "plt.plot(x, y, label='Prior predictive', color='blue')\n",
    "\n",
    "# Posterior predictive density\n",
    "# y_posterior = stats.nbinom.\n",
    "y = stats.nbinom.pmf(x, alpha_posterior, beta_posterior / (1 + beta_posterior))\n",
    "plt.plot(x, y, label='Posterior predictive', color='red')\n",
    "\n",
    "plt.title('Prior and Posterior Predictive densities')\n",
    "plt.xlabel('How many (x) connections?')\n",
    "plt.ylabel('Probability of (x) connections')\n",
    "plt.legend()\n",
    "plt.show()"
   ],
   "metadata": {
    "collapsed": false,
    "ExecuteTime": {
     "end_time": "2023-12-11T19:54:23.389179Z",
     "start_time": "2023-12-11T19:54:23.119587Z"
    }
   },
   "id": "b54b0a6d31eabe5c"
  },
  {
   "cell_type": "code",
   "execution_count": 74,
   "outputs": [
    {
     "name": "stdout",
     "output_type": "stream",
     "text": [
      "Prior 95% CI for λ: 0.95908, 3.41696\n",
      "Posterior 95% CI for λ: 1.43769, 1.93272\n"
     ]
    }
   ],
   "source": [
    "# Task 3: Construct 95% confidence intervals for λ from prior and posterior distributions\n",
    "prior_ci = stats.gamma.interval(0.95, alpha_prior, scale=1 / beta_prior)\n",
    "posterior_ci = stats.gamma.interval(0.95, alpha_posterior, scale=1 / beta_posterior)\n",
    "\n",
    "print(f\"Prior 95% CI for λ: {prior_ci[0]:.5f}, {prior_ci[1]:.5f}\")\n",
    "print(f\"Posterior 95% CI for λ: {posterior_ci[0]:.5f}, {posterior_ci[1]:.5f}\")\n"
   ],
   "metadata": {
    "collapsed": false,
    "ExecuteTime": {
     "end_time": "2023-12-11T19:54:23.399336Z",
     "start_time": "2023-12-11T19:54:23.395107Z"
    }
   },
   "id": "8cf92de43e82ec5"
  },
  {
   "cell_type": "code",
   "execution_count": 75,
   "outputs": [
    {
     "name": "stdout",
     "output_type": "stream",
     "text": [
      "Aposteriori mean: 1.67619\n",
      "Aposteriori mode: 1.66667\n"
     ]
    }
   ],
   "source": [
    "# Task 4: Select two posterior point estimates for λ and compare them\n",
    "posterior_mean = alpha_posterior / beta_posterior\n",
    "posterior_mode = (alpha_posterior - 1) / beta_posterior\n",
    "\n",
    "print(f\"Aposteriori mean: {posterior_mean:.5f}\")\n",
    "print(f\"Aposteriori mode: {posterior_mode:.5f}\")\n"
   ],
   "metadata": {
    "collapsed": false,
    "ExecuteTime": {
     "end_time": "2023-12-11T19:54:23.408558Z",
     "start_time": "2023-12-11T19:54:23.399142Z"
    }
   },
   "id": "23eec04c38e9d7ea"
  },
  {
   "cell_type": "code",
   "execution_count": 76,
   "outputs": [
    {
     "name": "stdout",
     "output_type": "stream",
     "text": [
      "Prior estimate: 2.00000\n",
      "Posterior estimate: 1.67619\n"
     ]
    }
   ],
   "source": [
    "# Task 5: Select one prior and one posterior point estimate for the number of observations\n",
    "mu_prior = alpha_prior / beta_prior\n",
    "mu_posterior = alpha_posterior / beta_posterior\n",
    "\n",
    "print(f\"Prior estimate: {mu_prior:.5f}\")\n",
    "print(f\"Posterior estimate: {mu_posterior:.5f}\")"
   ],
   "metadata": {
    "collapsed": false,
    "ExecuteTime": {
     "end_time": "2023-12-11T19:54:23.472964Z",
     "start_time": "2023-12-11T19:54:23.405588Z"
    }
   },
   "id": "6a1acc8b3c9bdc64"
  },
  {
   "cell_type": "markdown",
   "source": [
    "## ULOHA 1.b - Aproximace diskrétním rozdělením [2 body]"
   ],
   "metadata": {
    "collapsed": false
   },
   "id": "2b589a996eefb57"
  },
  {
   "cell_type": "markdown",
   "source": [
    "### Load data"
   ],
   "metadata": {
    "collapsed": false
   },
   "id": "bf7d991f2c9c2966"
  },
  {
   "cell_type": "code",
   "execution_count": 77,
   "outputs": [
    {
     "name": "stdout",
     "output_type": "stream",
     "text": [
      "prior_data=0        3.634785\n",
      "1        2.868113\n",
      "2        2.149160\n",
      "3        4.263065\n",
      "4        2.594745\n",
      "           ...   \n",
      "99995    1.725637\n",
      "99996    4.048414\n",
      "99997    3.000662\n",
      "99998    3.058451\n",
      "99999    4.487418\n",
      "Name: uloha_1 b)_prior, Length: 100000, dtype: float64\n",
      "\n",
      "observed_data=0        3.626656\n",
      "1        3.008269\n",
      "2        2.989829\n",
      "3        2.371630\n",
      "4        4.009366\n",
      "           ...   \n",
      "99995         NaN\n",
      "99996         NaN\n",
      "99997         NaN\n",
      "99998         NaN\n",
      "99999         NaN\n",
      "Name: uloha_1 b)_pozorování, Length: 100000, dtype: float64\n",
      "\n",
      "group_column=0           0\n",
      "1           0\n",
      "2           0\n",
      "3           0\n",
      "4           0\n",
      "         ... \n",
      "99995    9999\n",
      "99996    9999\n",
      "99997    9999\n",
      "99998    9999\n",
      "99999    9999\n",
      "Name: skupina, Length: 100000, dtype: int64\n"
     ]
    }
   ],
   "source": [
    "DEBUG = 1\n",
    "# Extract relevant columns\n",
    "prior_data = df_uloha_1['uloha_1 b)_prior']\n",
    "observed_data = df_uloha_1['uloha_1 b)_pozorování']\n",
    "group_column = df_uloha_1['skupina']\n",
    "print_debug(f\"{prior_data=}\")\n",
    "print()\n",
    "print_debug(f\"{observed_data=}\")\n",
    "print()\n",
    "print_debug(f\"{group_column=}\")\n",
    "print()\n"
   ],
   "metadata": {
    "collapsed": false,
    "ExecuteTime": {
     "end_time": "2023-12-11T19:54:23.491275Z",
     "start_time": "2023-12-11T19:54:23.416331Z"
    }
   },
   "id": "9ce109c9dbbd96a2"
  },
  {
   "cell_type": "markdown",
   "source": [
    "### Filter out bad values"
   ],
   "metadata": {
    "collapsed": false
   },
   "id": "4394a06ca11a493"
  },
  {
   "cell_type": "code",
   "execution_count": 85,
   "outputs": [
    {
     "name": "stdout",
     "output_type": "stream",
     "text": [
      "prior_data=0        3.634785\n",
      "1        2.868113\n",
      "2        2.149160\n",
      "3        4.263065\n",
      "4        2.594745\n",
      "           ...   \n",
      "99995    1.725637\n",
      "99996    4.048414\n",
      "99997    3.000662\n",
      "99998    3.058451\n",
      "99999    4.487418\n",
      "Name: uloha_1 b)_prior, Length: 100000, dtype: float64\n",
      "len(prior_data)=100000\n",
      "\n",
      "observed_data=0     3.626656\n",
      "1     3.008269\n",
      "2     2.989829\n",
      "3     2.371630\n",
      "4     4.009366\n",
      "        ...   \n",
      "95    3.438933\n",
      "96    3.430973\n",
      "97    3.727306\n",
      "98    4.257909\n",
      "99    2.081679\n",
      "Name: uloha_1 b)_pozorování, Length: 100, dtype: float64\n",
      "len(observed_data)=100\n",
      "\n",
      "group_column=0           0\n",
      "1           0\n",
      "2           0\n",
      "3           0\n",
      "4           0\n",
      "         ... \n",
      "99995    9999\n",
      "99996    9999\n",
      "99997    9999\n",
      "99998    9999\n",
      "99999    9999\n",
      "Name: skupina, Length: 100000, dtype: int64\n",
      "len(group_column)=100000\n"
     ]
    }
   ],
   "source": [
    "DEBUG = 1\n",
    "\n",
    "#Filter inf and nan values\n",
    "prior_data = prior_data[~np.isnan(prior_data)]\n",
    "observed_data = observed_data[~np.isnan(observed_data)]\n",
    "group_column = group_column[~np.isnan(group_column)]\n",
    "print_debug(f\"{prior_data=}\")\n",
    "print_debug(f\"{len(prior_data)=}\")\n",
    "print()\n",
    "print_debug(f\"{observed_data=}\")\n",
    "print_debug(f\"{len(observed_data)=}\")\n",
    "print()\n",
    "print_debug(f\"{group_column=}\")\n",
    "print_debug(f\"{len(group_column)=}\")\n",
    "print()"
   ],
   "metadata": {
    "collapsed": false,
    "ExecuteTime": {
     "end_time": "2023-12-11T20:03:28.583150Z",
     "start_time": "2023-12-11T20:03:28.553899Z"
    }
   },
   "id": "93c235e6837e24bb"
  },
  {
   "cell_type": "markdown",
   "source": [
    "### Uloha 1.b.1: Plot prior, posterior, and likelihood functions"
   ],
   "metadata": {
    "collapsed": false
   },
   "id": "4b8fc29504a9fa37"
  },
  {
   "cell_type": "code",
   "execution_count": 92,
   "outputs": [
    {
     "data": {
      "text/plain": "<Figure size 1000x600 with 1 Axes>",
      "image/png": "[encoded data removed]"
     },
     "metadata": {},
     "output_type": "display_data"
    }
   ],
   "source": [
    "# parameters for prior distribution\n",
    "mu = 3\n",
    "sigma = 1\n",
    "a = 1\n",
    "\n",
    "# Prior distribution\n",
    "b_values = np.linspace(0, 10, 100)\n",
    "alpha = (a - mu) / sigma\n",
    "prior_distribution = stats.truncnorm.pdf(b_values, a=alpha, b=np.inf, loc=mu, scale=sigma)\n",
    "\n",
    "# Likelihood function\n",
    "likelihood_values = np.zeros_like(b_values)\n",
    "\n",
    "alpha = (a - 1) / sigma\n",
    "for obs in observed_data:\n",
    "    likelihood_values += stats.truncnorm.pdf(b_values, a=alpha, b=obs, loc=mu, scale=sigma)\n",
    "\n",
    "# Normalize likelihood for comparability\n",
    "likelihood_values /= np.sum(likelihood_values)\n",
    "\n",
    "# Bayes rule\n",
    "posterior_distribution = prior_distribution * likelihood_values\n",
    "posterior_distribution /= np.sum(posterior_distribution)\n",
    "\n",
    "plt.figure(figsize=(10, 6))\n",
    "plt.plot(b_values, prior_distribution, label='Prior', color='blue')\n",
    "plt.plot(b_values, posterior_distribution, label='Posterior', color='red')\n",
    "plt.plot(b_values, likelihood_values, label='Likelihood', color='green')\n",
    "# plt.hist(prior_data, bins=20, density=True, alpha=0.5, color='blue', label='Apriorní hustota')\n",
    "# plt.hist(observed_data, bins=20, density=True, alpha=0.5, color='green', label='Funkce věrohodnosti')\n",
    "# plt.hist(b_values, bins=20, density=True, weights=posterior_distribution, alpha=0.5, color='red', label='Aposteroriorní hustota')\n",
    "\n",
    "plt.title('Prior, Likelihood, and Posterior Distributions for Parameter b')\n",
    "plt.xlabel('b')\n",
    "plt.ylabel('Density')\n",
    "plt.legend()\n",
    "plt.show()"
   ],
   "metadata": {
    "collapsed": false,
    "ExecuteTime": {
     "end_time": "2023-12-11T20:07:47.753933Z",
     "start_time": "2023-12-11T20:07:47.460836Z"
    }
   },
   "id": "9df14552417ec2a"
  },
  {
   "cell_type": "code",
   "execution_count": 81,
   "outputs": [
    {
     "name": "stdout",
     "output_type": "stream",
     "text": [
      "95% Confidence Interval for Parameter b: 1.61616, 4.34343\n"
     ]
    }
   ],
   "source": [
    "# Určení 95% intervalu spolehlivosti\n",
    "cumulative_posterior = np.cumsum(posterior_distribution)\n",
    "lower_bound = b_values[np.argmax(cumulative_posterior >= 0.025)]\n",
    "upper_bound = b_values[np.argmax(cumulative_posterior >= 0.975)]\n",
    "print(f'95% Confidence Interval for Parameter b: {lower_bound:.5f}, {upper_bound:.5f}')\n"
   ],
   "metadata": {
    "collapsed": false,
    "ExecuteTime": {
     "end_time": "2023-12-11T19:56:42.842420Z",
     "start_time": "2023-12-11T19:56:42.833897Z"
    }
   },
   "id": "b6877d64a8ca4a68"
  },
  {
   "cell_type": "code",
   "execution_count": 82,
   "outputs": [
    {
     "name": "stdout",
     "output_type": "stream",
     "text": [
      "First point estimate: 2.9985902274579974\n",
      "Second point estimate: 3.0303030303030303\n"
     ]
    }
   ],
   "source": [
    "# Vybrání dvou bodových odhadů\n",
    "point_estimate_1 = np.sum(b_values * posterior_distribution)\n",
    "point_estimate_2 = b_values[np.argmax(posterior_distribution)]\n",
    "print(f'First point estimate: {point_estimate_1}')\n",
    "print(f'Second point estimate: {point_estimate_2}')\n"
   ],
   "metadata": {
    "collapsed": false,
    "ExecuteTime": {
     "end_time": "2023-12-11T19:56:43.267571Z",
     "start_time": "2023-12-11T19:56:43.256540Z"
    }
   },
   "id": "c039f4eb0210239f"
  },
  {
   "cell_type": "code",
   "execution_count": null,
   "outputs": [],
   "source": [
    "DEBUG = 1\n",
    "mu = 3\n",
    "sigma_squared = 1\n",
    "a = 1\n",
    "\n",
    "# Prior distribution parameters\n",
    "b_values = np.linspace(start=0, stop=10, num=100)\n",
    "print_debug(f\"{b_values=}\")\n",
    "print_debug(f\"{len(b_values)=}\")\n",
    "print()\n",
    "\n",
    "prior_values = stats.truncnorm.pdf(b_values, (a - mu) / np.sqrt(sigma_squared), np.inf, loc=mu,\n",
    "                                   scale=np.sqrt(sigma_squared))\n",
    "\n",
    "# Likelihood function\n",
    "likelihood_values = np.zeros_like(b_values)\n",
    "print_debug(f\"{likelihood_values=}\")\n",
    "print_debug(f\"{len(likelihood_values)=}\")\n",
    "print()\n",
    "\n",
    "group = df_uloha_1['skupina'].unique()[0]\n",
    "print_debug(f\"{group=}\")\n",
    "print()\n",
    "\n",
    "group_observed_data = observed_data[group_column == group]\n",
    "print_debug(f\"{group_observed_data=}\")\n",
    "print_debug(f\"{len(group_observed_data)=}\")\n",
    "print()\n",
    "\n",
    "hist = np.histogram(group_observed_data, bins=b_values, density=True)[0]\n",
    "print_debug(f\"{hist=}\")\n",
    "print_debug(f\"{len(hist)=}\")\n"
   ],
   "metadata": {
    "collapsed": false
   },
   "id": "40f08806d8e81d6a"
  },
  {
   "cell_type": "code",
   "execution_count": null,
   "outputs": [],
   "source": [
    "\n"
   ],
   "metadata": {
    "collapsed": false
   },
   "id": "d9c6d9b153c7fb78"
  },
  {
   "cell_type": "code",
   "execution_count": null,
   "outputs": [],
   "source": [
    "for group in df_uloha_1['skupina'].unique():\n",
    "    group_observed_data = observed_data[group_column == group]\n",
    "    likelihood_values += np.histogram(group_observed_data, bins=len(b_values), density=True)[0] / len(\n",
    "        df_uloha_1[df_uloha_1['skupina'] == group])\n",
    "print_debug(f\"{likelihood_values=}\")\n",
    "print_debug(f\"{len(likelihood_values)=}\")"
   ],
   "metadata": {
    "collapsed": false
   },
   "id": "2188941f3b2a1135"
  },
  {
   "cell_type": "code",
   "execution_count": null,
   "outputs": [],
   "source": [
    "# Normalize likelihood for comparability\n",
    "likelihood_values /= np.sum(likelihood_values)\n",
    "\n",
    "# Posterior distribution parameters\n",
    "posterior_values = prior_values * likelihood_values\n",
    "print_debug(f\"{posterior_values=}\")\n",
    "posterior_values /= np.sum(posterior_values)\n",
    "print_debug(f\"{posterior_values=}\")\n",
    "\n",
    "# Plot prior, posterior, and likelihood functions\n",
    "plt.figure(figsize=(10, 6))\n",
    "plt.plot(b_values, prior_values, label='Prior', color='blue')\n",
    "plt.plot(b_values, likelihood_values, label='Likelihood', color='green')\n",
    "plt.plot(b_values, posterior_values, label='Posterior', color='orange')\n",
    "plt.title('Prior, Likelihood, and Posterior Distributions for Parameter b')\n",
    "plt.xlabel('b')\n",
    "plt.ylabel('Density')\n",
    "plt.legend()\n",
    "plt.show()"
   ],
   "metadata": {
    "collapsed": false
   },
   "id": "376e0c2bf617bb43"
  },
  {
   "cell_type": "markdown",
   "source": [
    "### Uloha 1.b.2: Determine 95% confidence interval for parameter b from the posterior distribution"
   ],
   "metadata": {
    "collapsed": false
   },
   "id": "1e01fa047dca863d"
  },
  {
   "cell_type": "code",
   "execution_count": null,
   "outputs": [],
   "source": [
    "DEBUG = 1\n",
    "\n",
    "posterior_percentiles = np.percentile(b_values, [2.5, 97.5], weights=posterior_values)\n",
    "print_debug(f\"95% Confidence Interval for Parameter b: {posterior_percentiles=}\")"
   ],
   "metadata": {
    "collapsed": false
   },
   "id": "fbc686a2b7860ed4"
  },
  {
   "cell_type": "markdown",
   "source": [
    "### Uloha 1.b.3: Select two point estimates for parameter b and calculate them"
   ],
   "metadata": {
    "collapsed": false
   },
   "id": "74e5646e7179eafe"
  },
  {
   "cell_type": "code",
   "execution_count": null,
   "outputs": [],
   "source": [
    "DEBUG = 1\n",
    "posterior_mean = np.sum(b_values * posterior_values)\n",
    "posterior_mode = b_values[np.argmax(posterior_values)]\n",
    "\n",
    "print_debug(f\"{posterior_mean=}\")\n",
    "print_debug(f\"{posterior_mode=}\")"
   ],
   "metadata": {
    "collapsed": false
   },
   "id": "f758fb1ca681641e"
  },
  {
   "cell_type": "code",
   "execution_count": null,
   "outputs": [],
   "source": [
    "# Načtení dat\n",
    "data = pd.read_csv('Data_v1.0.csv')\n",
    "\n",
    "# Přidání kvadratických termínů\n",
    "data['ActiveUsers_squared'] = data['ActiveUsers'] ** 2\n",
    "data['InteractingPct_squared'] = data['InteractingPct'] ** 2\n",
    "data['ScrollingPct_squared'] = data['ScrollingPct'] ** 2\n",
    "\n",
    "# Přidání interakcí druhého řádu\n",
    "data['ActiveUsers_InteractingPct'] = data['ActiveUsers'] * data['InteractingPct']\n",
    "data['ActiveUsers_ScrollingPct'] = data['ActiveUsers'] * data['ScrollingPct']\n",
    "data['InteractingPct_ScrollingPct'] = data['InteractingPct'] * data['ScrollingPct']\n",
    "\n",
    "# Plný kvadratický model\n",
    "model_formula = 'ping ~ ActiveUsers + InteractingPct + ScrollingPct + ActiveUsers_squared + InteractingPct_squared + ScrollingPct_squared + ActiveUsers_InteractingPct + ActiveUsers_ScrollingPct + InteractingPct_ScrollingPct + OSType'\n",
    "\n",
    "# Fit regresního modelu\n",
    "model = sm.OLS.from_formula(model_formula, data=data)\n",
    "results = model.fit()\n",
    "\n",
    "# Výpis výsledků\n",
    "print(results.summary())\n",
    "\n",
    "# Regresní diagnostika\n",
    "sns.residplot(x=results.fittedvalues, y=results.resid)\n",
    "plt.xlabel('Fitted values')\n",
    "plt.ylabel('Residuals')\n",
    "plt.title('Residuals vs Fitted')\n",
    "plt.show()\n",
    "\n",
    "# Test normality reziduí\n",
    "sm.qqplot(results.resid, line='s')\n",
    "plt.title('Normal Q-Q plot')\n",
    "plt.show()\n",
    "\n",
    "# VIF pro detekci multicollinearity\n",
    "X = data[['ActiveUsers', 'InteractingPct', 'ScrollingPct', 'ActiveUsers_squared', 'InteractingPct_squared',\n",
    "          'ScrollingPct_squared', 'ActiveUsers_InteractingPct', 'ActiveUsers_ScrollingPct',\n",
    "          'InteractingPct_ScrollingPct']]\n",
    "vif_data = pd.DataFrame()\n",
    "vif_data['Variable'] = X.columns\n",
    "vif_data['VIF'] = [variance_inflation_factor(X.values, i) for i in range(X.shape[1])]\n",
    "print(vif_data)\n",
    "\n",
    "# Identifikace odlehlých hodnot\n",
    "influence = results.get_influence()\n",
    "leverage = influence.hat_matrix_diag\n",
    "residuals_studentized = influence.resid_studentized_internal\n",
    "outliers = np.where((np.abs(residuals_studentized) > 2) | (leverage > 0.02))\n",
    "\n",
    "# Vyhodnocení výsledků a rozhodnutí o odstranění odlehlých hodnot (pokud je to nutné)\n",
    "\n",
    "# Analýza parametrů\n",
    "param_analysis = results.params\n",
    "\n",
    "# Identifikace nejproblematičtější hodnoty\n",
    "max_residual = data.loc[outliers[0], 'ping'].max()\n",
    "\n",
    "# Odhad odezvy uživatele s Windows\n",
    "windows_user = pd.DataFrame({'ActiveUsers': [data['ActiveUsers'].mean()],\n",
    "                             'InteractingPct': [data['InteractingPct'].mean()],\n",
    "                             'ScrollingPct': [data['ScrollingPct'].mean()],\n",
    "                             'ActiveUsers_squared': [data['ActiveUsers_squared'].mean()],\n",
    "                             'InteractingPct_squared': [data['InteractingPct_squared'].mean()],\n",
    "                             'ScrollingPct_squared': [data['ScrollingPct_squared'].mean()],\n",
    "                             'ActiveUsers_InteractingPct': [data['ActiveUsers_InteractingPct'].mean()],\n",
    "                             'ActiveUsers_ScrollingPct': [data['ActiveUsers_ScrollingPct'].mean()],\n",
    "                             'InteractingPct_ScrollingPct': [data['InteractingPct_ScrollingPct'].mean()],\n",
    "                             'OSType': ['Windows']})\n",
    "predicted_ping = results.predict(windows_user)\n",
    "\n",
    "# Konfidenční interval a predikční interval\n",
    "conf_interval = results.get_prediction(windows_user).conf_int()\n",
    "pred_interval = results.get_prediction(windows_user).conf_int(obs=True)\n",
    "\n",
    "# Vyhodnocení modelu pro další použití\n",
    "# Zde můžete diskutovat o tom, zda jsou výsledky modelu uspokojivé a zdali je model vhodný pro další použití.\n"
   ],
   "metadata": {
    "collapsed": false
   },
   "id": "e42d89a374cadf31"
  },
  {
   "cell_type": "code",
   "execution_count": null,
   "outputs": [],
   "source": [],
   "metadata": {
    "collapsed": false
   },
   "id": "5f9d918134eb8617"
  }
 ],
 "metadata": {
  "kernelspec": {
   "display_name": "Python 3",
   "language": "python",
   "name": "python3"
  },
  "language_info": {
   "codemirror_mode": {
    "name": "ipython",
    "version": 2
   },
   "file_extension": ".py",
   "mimetype": "text/x-python",
   "name": "python",
   "nbconvert_exporter": "python",
   "pygments_lexer": "ipython2",
   "version": "2.7.6"
  }
 },
 "nbformat": 4,
 "nbformat_minor": 5
}
