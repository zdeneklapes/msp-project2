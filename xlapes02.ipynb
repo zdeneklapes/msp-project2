{
 "cells": [
  {
   "cell_type": "code",
   "execution_count": null,
   "id": "initial_id",
   "metadata": {
    "collapsed": true
   },
   "outputs": [],
   "source": [
    "import numpy as np\n",
    "import matplotlib.pyplot as plt\n",
    "import scipy.stats as stats\n",
    "import pandas as pd\n",
    "from scipy import stats\n",
    "import statsmodels.api as sm\n",
    "from statsmodels.stats.outliers_influence import variance_inflation_factor\n",
    "import seaborn as sns\n",
    "\n",
    "# Dark theme\n",
    "plt.style.use('dark_background')\n",
    "\n",
    "# set grid thickness\n",
    "plt.rcParams['grid.linewidth'] = 0.3\n",
    "\n",
    "DEBUG = False"
   ]
  },
  {
   "cell_type": "markdown",
   "source": [
    "# Nacteni dat"
   ],
   "metadata": {
    "collapsed": false
   },
   "id": "8faa4d901f97b7ca"
  },
  {
   "cell_type": "code",
   "execution_count": null,
   "outputs": [],
   "source": [
    "def print_debug(*args, **kwargs):\n",
    "    global DEBUG\n",
    "    if DEBUG:\n",
    "        print(*args, **kwargs)"
   ],
   "metadata": {
    "collapsed": false
   },
   "id": "992af79428e2289c"
  },
  {
   "cell_type": "code",
   "execution_count": null,
   "outputs": [],
   "source": [
    "def load_data():\n",
    "    DEBUG = True\n",
    "    excel_file = pd.ExcelFile(\"Projekt-2_Data.xlsx\")\n",
    "    print_debug(excel_file.sheet_names)\n",
    "\n",
    "    df_uloha_1: pd.DataFrame = excel_file.parse(excel_file.sheet_names[0])\n",
    "    df_uloha_2 = excel_file.parse(excel_file.sheet_names[1])\n",
    "    print_debug(df_uloha_1.head())\n",
    "    print_debug(df_uloha_2.head())\n",
    "    return {\n",
    "        '1': df_uloha_1,\n",
    "        '1_a': df_uloha_1['uloha_1 a)'],\n",
    "        '1_b_prior': df_uloha_1['uloha_1 b)_prior'],\n",
    "        '1_g': df_uloha_1['skupina'],\n",
    "        '1_b_observation': df_uloha_1['uloha_1 b)_pozorování'],\n",
    "        '2': df_uloha_2,\n",
    "        '2_os': df_uloha_2['OSType'],\n",
    "        '2_as': df_uloha_2['ActiveUsers'],\n",
    "        '2_ip': df_uloha_2['InteractingPct'],\n",
    "        '2_sp': df_uloha_2['ScrollingPct'],\n",
    "        '2_p': df_uloha_2['Ping [ms]'],\n",
    "    }\n",
    "\n",
    "\n",
    "data = load_data()"
   ],
   "metadata": {
    "collapsed": false
   },
   "id": "2b35686f6ec7b1cb"
  },
  {
   "cell_type": "code",
   "execution_count": null,
   "outputs": [],
   "source": [
    "# data"
   ],
   "metadata": {
    "collapsed": false
   },
   "id": "90a1e1ed62ddd8a2"
  },
  {
   "cell_type": "markdown",
   "source": [
    "# ULOHA 1 - Bayesovske odhady"
   ],
   "metadata": {
    "collapsed": false
   },
   "id": "ea8e6d01d0bc2356"
  },
  {
   "cell_type": "markdown",
   "source": [
    "## ULOHA 1.a - Konjugované apriorní a aposteriorní rozdělení, prediktivní rozdělení [2 body]"
   ],
   "metadata": {
    "collapsed": false
   },
   "id": "9c2fd2c0a26ad612"
  },
  {
   "cell_type": "markdown",
   "source": [
    "### Cleaning data\n",
    "- Remove outliers"
   ],
   "metadata": {
    "collapsed": false
   },
   "id": "c84dbe5f0008631e"
  },
  {
   "cell_type": "code",
   "execution_count": null,
   "outputs": [],
   "source": [
    "def task_1_b_data():\n",
    "    connections = 10\n",
    "    time = 5\n",
    "    info_df1 = data\n",
    "    return {\n",
    "        'connections': connections,\n",
    "        'time': time,\n",
    "        'info_df1': info_df1\n",
    "    }"
   ],
   "metadata": {
    "collapsed": false
   },
   "id": "3b7c879a101f45c"
  },
  {
   "cell_type": "code",
   "execution_count": null,
   "outputs": [],
   "source": [
    "def task_1_b_cleared_data(df_uloha_1: pd.DataFrame):\n",
    "    # Extract observed data\n",
    "    observed_data = df_uloha_1.values\n",
    "    print_debug(f\"{observed_data=}\")\n",
    "    print_debug(f\"{len(observed_data)=}\")\n",
    "\n",
    "    # remove nan or +-inf values\n",
    "    observed_data = observed_data[~np.isnan(observed_data)]\n",
    "    print_debug(f\"{observed_data=}\")\n",
    "    print_debug(f\"{len(observed_data)=}\")\n",
    "\n",
    "    # Calculate Z-scores\n",
    "    z_scores = stats.zscore(observed_data, nan_policy='raise')\n",
    "    print_debug(f\"{z_scores=}\")\n",
    "    print_debug(f\"{len(observed_data)=}\")\n",
    "\n",
    "    # Define a threshold for outliers (e.g., 3 standard deviations)\n",
    "    threshold = 3\n",
    "\n",
    "    # Filter out rows with Z-scores beyond the threshold\n",
    "    filtered_data = observed_data[(np.abs(z_scores) < threshold)]\n",
    "    print_debug(f\"{filtered_data=}\")\n",
    "    print_debug(f\"{len(observed_data)=}\")\n",
    "\n",
    "    # Display the number of removed outliers\n",
    "    print_debug(f\"Number of removed outliers: {len(df_uloha_1.values) - len(filtered_data)}\")\n",
    "    return filtered_data\n",
    "\n",
    "\n",
    "filtered_data = task_1_b_cleared_data(data['1_a'])\n",
    "filtered_data"
   ],
   "metadata": {
    "collapsed": false
   },
   "id": "4b3113fea612dc3f"
  },
  {
   "cell_type": "markdown",
   "source": [
    "## ULOHA 1.a.1 - Do jednoho obrázku vykreslíte apriorní a aposteriorní hustotou parametru Poissonova rozdělení $\\lambda$."
   ],
   "metadata": {
    "collapsed": false
   },
   "id": "eb3e90d9765568cd"
  },
  {
   "cell_type": "code",
   "execution_count": null,
   "outputs": [],
   "source": [
    "def task_1_a_1_data():\n",
    "    # Expertní odhad parametru λ\n",
    "    lambda_expert = 10 / 5  # 10 připojení za 5 ms\n",
    "    alpha_prior = 10  # connection count\n",
    "    # alpha_prior = 2\n",
    "    beta_prior = 5  # time within the connection count (alpha_prior) was observed\n",
    "    # beta_prior = 1\n",
    "    return {\n",
    "        'lambda_expert': lambda_expert,\n",
    "        'alpha_prior': alpha_prior,\n",
    "        'beta_prior': beta_prior\n",
    "    }"
   ],
   "metadata": {
    "collapsed": false
   },
   "id": "2906ee1a55a4a635"
  },
  {
   "cell_type": "code",
   "execution_count": null,
   "outputs": [],
   "source": [
    "def task_1_a_1_prior():\n",
    "    data = task_1_a_1_data()\n",
    "    alpha_prior = data['alpha_prior']\n",
    "    beta_prior = data['beta_prior']\n",
    "    \n",
    "    # lambda prior\n",
    "    lambda_prior = alpha_prior / beta_prior\n",
    "    print_debug(f\"{lambda_prior=}\")\n",
    "\n",
    "    x = np.linspace(0, np.max(filtered_data), 1000)\n",
    "    y = stats.gamma.pdf(x, alpha_prior, scale=1 / beta_prior)\n",
    "    return {\n",
    "        'x': x,\n",
    "        'y': y,\n",
    "        \"alpha_prior\": alpha_prior,\n",
    "        \"beta_prior\": beta_prior\n",
    "    }\n"
   ],
   "metadata": {
    "collapsed": false
   },
   "id": "b7f277b96126017e"
  },
  {
   "cell_type": "code",
   "execution_count": null,
   "outputs": [],
   "source": [
    "def task_1_a_1_posterior():\n",
    "    data = task_1_a_1_data()\n",
    "    alpha_prior = data['alpha_prior']\n",
    "    beta_prior = data['beta_prior']\n",
    "    \n",
    "    # posterior\n",
    "    alpha_posterior = alpha_prior + np.sum(filtered_data)\n",
    "    beta_posterior = beta_prior + len(filtered_data)\n",
    "\n",
    "    # lambda_posterior\n",
    "    lambda_posterior = alpha_posterior / beta_posterior\n",
    "    print_debug(f\"{lambda_posterior=}\")\n",
    "\n",
    "    # Posterior\n",
    "    x = np.linspace(0, np.max(filtered_data), 1000)\n",
    "    y = stats.gamma.pdf(x, alpha_posterior, scale=1 / beta_posterior)\n",
    "    return {\n",
    "        'x': x,\n",
    "        'y': y,\n",
    "        \"alpha_posterior\": alpha_posterior,\n",
    "        \"beta_posterior\": beta_posterior\n",
    "    }"
   ],
   "metadata": {
    "collapsed": false
   },
   "id": "89818cc14c30c52b"
  },
  {
   "cell_type": "code",
   "execution_count": null,
   "outputs": [],
   "source": [
    "def task_1_a_1_plot():\n",
    "    data_prior = task_1_a_1_prior()\n",
    "    x = task_1_a_1_prior()['x']\n",
    "    y = task_1_a_1_prior()['y']\n",
    "    plt.plot(x, y, label = 'Posterior', color = 'blue')\n",
    "    data_posterior = task_1_a_1_posterior()\n",
    "    x = task_1_a_1_posterior()['x']\n",
    "    y = task_1_a_1_posterior()['y']\n",
    "    plt.plot(x, y, label = 'Posterior', color = 'red')\n",
    "    plt.title('Prior and Posterior Distributions')\n",
    "    plt.xlabel('Lambda')\n",
    "    plt.ylabel('Probability Density')\n",
    "    plt.legend()\n",
    "    plt.show()\n",
    "task_1_a_1_plot()"
   ],
   "metadata": {
    "collapsed": false
   },
   "id": "a3741582c5dfc59f"
  },
  {
   "cell_type": "markdown",
   "source": [
    "## ULOHA 1.a.2 - Do jednoho obrázku vykreslíte apriorní a aposteriorní prediktivní hustotou pozorovaní $x$ za jeden časový interval."
   ],
   "metadata": {
    "collapsed": false
   },
   "id": "61f0af1e772456ac"
  },
  {
   "cell_type": "code",
   "execution_count": null,
   "outputs": [],
   "source": [
    "def task_1_a_2_prior():\n",
    "    data = task_1_a_1_data()\n",
    "    alpha_prior = data['alpha_prior']\n",
    "    beta_prior = data['beta_prior']\n",
    "    lambda_prior = data['lambda_expert']\n",
    "\n",
    "    alpha_posterior = alpha_prior + np.sum(filtered_data)  # Assuming filtered_data is defined\n",
    "    beta_posterior = beta_prior + len(filtered_data)\n",
    "\n",
    "    lambda_posterior = alpha_posterior / beta_posterior\n",
    "    print(f\"{lambda_posterior=}\")\n",
    "\n",
    "    x = range(0, 6)\n",
    "    y = stats.nbinom.pmf(x, alpha_prior, beta_prior / (1 + beta_prior))\n",
    "    return x, y"
   ],
   "metadata": {
    "collapsed": false
   },
   "id": "4ab96befce46a20a"
  },
  {
   "cell_type": "code",
   "execution_count": null,
   "outputs": [],
   "source": [
    "def task_1_a_2_posterior():\n",
    "    data = task_1_a_1_data()\n",
    "    alpha_prior = data['alpha_prior']\n",
    "    beta_prior = data['beta_prior']\n",
    "    lambda_prior = data['lambda_expert']\n",
    "\n",
    "    alpha_posterior = alpha_prior + np.sum(filtered_data)  # Assuming filtered_data is defined\n",
    "    beta_posterior = beta_prior + len(filtered_data)\n",
    "\n",
    "    x = range(0, 6)\n",
    "    y = stats.nbinom.pmf(x, alpha_posterior, beta_posterior / (1 + beta_posterior))\n",
    "    return x, y"
   ],
   "metadata": {
    "collapsed": false
   },
   "id": "73ca523fb4a1efcd"
  },
  {
   "cell_type": "code",
   "execution_count": null,
   "outputs": [],
   "source": [
    "def task_1_a_2_plot():\n",
    "    x, y = task_1_a_2_prior()\n",
    "    plt.plot(x, y, label='Prior predictive', color='blue')\n",
    "    x, y = task_1_a_2_posterior()\n",
    "    plt.plot(x, y, label='Prior predictive', color='red')\n",
    "    plt.title('Prior and Posterior Predictive densities')\n",
    "    plt.xlabel('How many (x) connections?')\n",
    "    plt.ylabel('Probability of (x) connections')\n",
    "    plt.legend()\n",
    "    plt.show()\n",
    "task_1_a_2_plot()"
   ],
   "metadata": {
    "collapsed": false
   },
   "id": "b54b0a6d31eabe5c"
  },
  {
   "cell_type": "code",
   "execution_count": null,
   "outputs": [],
   "source": [
    "def task_1_a_3():\n",
    "    global DEBUG\n",
    "    DEBUG = True\n",
    "    data = task_1_a_1_data()\n",
    "    alpha_prior = data['alpha_prior']\n",
    "    beta_prior = data['beta_prior']\n",
    "\n",
    "    alpha_posterior = alpha_prior + np.sum(filtered_data)  # Assuming filtered_data is defined\n",
    "    beta_posterior = beta_prior + len(filtered_data)\n",
    "    \n",
    "    # Task 3: Construct 95% confidence intervals for λ from prior and posterior distributions\n",
    "    prior_ci = stats.gamma.interval(0.95, alpha_prior, scale=1 / beta_prior)\n",
    "    posterior_ci = stats.gamma.interval(0.95, alpha_posterior, scale=1 / beta_posterior)\n",
    "\n",
    "    print_debug(f\"Prior 95% CI for λ: {prior_ci[0]:.5f}, {prior_ci[1]:.5f}\")\n",
    "    print_debug(f\"Posterior 95% CI for λ: {posterior_ci[0]:.5f}, {posterior_ci[1]:.5f}\")\n",
    "    \n",
    "task_1_a_3()"
   ],
   "metadata": {
    "collapsed": false
   },
   "id": "8cf92de43e82ec5"
  },
  {
   "cell_type": "code",
   "execution_count": null,
   "outputs": [],
   "source": [
    "def task_1_a_4():\n",
    "    global DEBUG\n",
    "    DEBUG = True\n",
    "    data = task_1_a_1_data()\n",
    "    alpha_prior = data['alpha_prior']\n",
    "    beta_prior = data['beta_prior']\n",
    "    \n",
    "    alpha_posterior = alpha_prior + np.sum(filtered_data)  # Assuming filtered_data is defined\n",
    "    beta_posterior = beta_prior + len(filtered_data)\n",
    "    \n",
    "    # Task 4: Select two posterior point estimates for λ and compare them\n",
    "    posterior_mean = alpha_posterior / beta_posterior\n",
    "    posterior_mode = (alpha_posterior - 1) / beta_posterior\n",
    "\n",
    "    print(f\"Aposteriori mean: {posterior_mean:.5f}\")\n",
    "    print(f\"Aposteriori mode: {posterior_mode:.5f}\")\n",
    "task_1_a_4()"
   ],
   "metadata": {
    "collapsed": false
   },
   "id": "23eec04c38e9d7ea"
  },
  {
   "cell_type": "code",
   "execution_count": null,
   "outputs": [],
   "source": [
    "def task_1_a_5():\n",
    "    global DEBUG\n",
    "    DEBUG = True\n",
    "    data = task_1_a_1_data()\n",
    "    alpha_prior = data['alpha_prior']\n",
    "    beta_prior = data['beta_prior']\n",
    "    \n",
    "    alpha_posterior = alpha_prior + np.sum(filtered_data)  # Assuming filtered_data is defined\n",
    "    beta_posterior = beta_prior + len(filtered_data)\n",
    "    \n",
    "    # Task 5: Select one prior and one posterior point estimate for the number of observations\n",
    "    mu_prior = alpha_prior / beta_prior\n",
    "    mu_posterior = alpha_posterior / beta_posterior\n",
    "\n",
    "    print(f\"Prior estimate: {mu_prior:.5f}\")\n",
    "    print(f\"Posterior estimate: {mu_posterior:.5f}\")\n",
    "task_1_a_5()"
   ],
   "metadata": {
    "collapsed": false
   },
   "id": "6a1acc8b3c9bdc64"
  },
  {
   "cell_type": "markdown",
   "source": [
    "## ULOHA 1.b - Aproximace diskrétním rozdělením [2 body]"
   ],
   "metadata": {
    "collapsed": false
   },
   "id": "2b589a996eefb57"
  },
  {
   "cell_type": "markdown",
   "source": [
    "### Load data"
   ],
   "metadata": {
    "collapsed": false
   },
   "id": "bf7d991f2c9c2966"
  },
  {
   "cell_type": "code",
   "execution_count": 43,
   "outputs": [],
   "source": [
    "def task_1_b_cleared_data(prior_data,\n",
    "                          observed_data, \n",
    "                          group_column):\n",
    "    global DEBUG\n",
    "    DEBUG = 0\n",
    "\n",
    "    #Filter inf and nan values\n",
    "    prior_data = prior_data[~np.isnan(prior_data)]\n",
    "    observed_data = observed_data[~np.isnan(observed_data)]\n",
    "    group_column = group_column[~np.isnan(group_column)]\n",
    "    print_debug(f\"{prior_data=}\")\n",
    "    print_debug(f\"{len(prior_data)=}\")\n",
    "    print_debug()\n",
    "    print_debug(f\"{observed_data=}\")\n",
    "    print_debug(f\"{len(observed_data)=}\")\n",
    "    print_debug()\n",
    "    print_debug(f\"{group_column=}\")\n",
    "    print_debug(f\"{len(group_column)=}\")\n",
    "    print_debug()\n",
    "    return {\n",
    "        'prior_data': prior_data,\n",
    "        'observed_data': observed_data,\n",
    "        'group_column': group_column\n",
    "    }\n",
    "    \n",
    "# task_1_b_cleared_data(data['1_b_prior'], data['1_b_observation'], data['1_g'])"
   ],
   "metadata": {
    "collapsed": false,
    "ExecuteTime": {
     "end_time": "2023-12-12T01:43:29.435486Z",
     "start_time": "2023-12-12T01:43:29.424648Z"
    }
   },
   "id": "93c235e6837e24bb"
  },
  {
   "cell_type": "markdown",
   "source": [
    "### Uloha 1.b.1: Plot prior, posterior, and likelihood functions"
   ],
   "metadata": {
    "collapsed": false
   },
   "id": "4b8fc29504a9fa37"
  },
  {
   "cell_type": "code",
   "execution_count": 44,
   "outputs": [],
   "source": [
    "def task_1_b_1_data():\n",
    "    global DEBUG\n",
    "    # parameters for prior distribution\n",
    "    mu = 3\n",
    "    sigma_squared = 1\n",
    "    a = 1\n",
    "    return {\n",
    "        'mu': mu,\n",
    "        'sigma_squared': sigma_squared,\n",
    "        'a': a\n",
    "    }"
   ],
   "metadata": {
    "collapsed": false,
    "ExecuteTime": {
     "end_time": "2023-12-12T01:43:29.878132Z",
     "start_time": "2023-12-12T01:43:29.862535Z"
    }
   },
   "id": "2b870f0e5e5523d3"
  },
  {
   "cell_type": "code",
   "execution_count": 46,
   "outputs": [
    {
     "data": {
      "text/plain": "skupina\n0       5.021816\n1       4.392436\n2       5.827102\n3       4.531723\n4       5.461728\n          ...   \n9995    5.001767\n9996    5.771658\n9997    5.579720\n9998    5.063841\n9999    4.487418\nName: uloha_1 b)_prior, Length: 10000, dtype: float64"
     },
     "execution_count": 46,
     "metadata": {},
     "output_type": "execute_result"
    }
   ],
   "source": [
    "# max_per_group = data['1'].groupby('skupina')['uloha_1 b)_prior'].max().reset_index()\n",
    "max_per_group = data['1'].groupby('skupina')['uloha_1 b)_prior'].max()\n",
    "# max_per_group = data['1']\n",
    "max_per_group"
   ],
   "metadata": {
    "collapsed": false,
    "ExecuteTime": {
     "end_time": "2023-12-12T01:43:30.241143Z",
     "start_time": "2023-12-12T01:43:30.219853Z"
    }
   },
   "id": "817ffaa66ee6a0f7"
  },
  {
   "cell_type": "code",
   "execution_count": 47,
   "outputs": [
    {
     "data": {
      "text/plain": "<Figure size 640x480 with 1 Axes>",
      "image/png": "[encoded data removed]"
     },
     "metadata": {},
     "output_type": "display_data"
    }
   ],
   "source": [
    "aprior_data_max = data['1'].groupby('skupina')['uloha_1 b)_prior'].max().reset_index()\n",
    "\n",
    "# Získanie všetkých najväčších hodnôt do jednej dátovej sady\n",
    "all_max_values = aprior_data_max['uloha_1 b)_prior']\n",
    "\n",
    "# Určenie hraníc binov pre rovnomerné rozdelenie\n",
    "all_max_values.max()\n",
    "bin_width = (all_max_values.max() - all_max_values.min()) / 50\n",
    "bins = np.arange(all_max_values.min(), all_max_values.max(), bin_width)\n",
    "\n",
    "bin_height, bin_edges = np.histogram(all_max_values, bins=50)\n",
    "bin_height = bin_height / np.sum(bin_height)\n",
    "\n",
    "# Vytvorenie histogramu pre diskrétne rozdelenie\n",
    "# plt.hist(all_max_values, bins=bins, edgecolor='black', alpha=0.7,density=True)\n",
    "plt.bar(x=bins, height=bin_height, width=bin_width, color='blue', alpha=0.7)\n",
    "plt.show()\n",
    "\n"
   ],
   "metadata": {
    "collapsed": false,
    "ExecuteTime": {
     "end_time": "2023-12-12T01:43:30.651787Z",
     "start_time": "2023-12-12T01:43:30.396315Z"
    }
   },
   "id": "628a77e413383e56"
  },
  {
   "cell_type": "code",
   "execution_count": 48,
   "outputs": [
    {
     "data": {
      "text/plain": "<Figure size 640x480 with 1 Axes>",
      "image/png": "[encoded data removed]"
     },
     "metadata": {},
     "output_type": "display_data"
    }
   ],
   "source": [
    "# Likelihood function\n",
    "mu = 3\n",
    "sigma = np.sqrt(1)\n",
    "a = 1\n",
    "\n",
    "observed_data = task_1_b_cleared_data(data['1_b_prior'], data['1_b_observation'], data['1_g'])['observed_data']\n",
    "bin_centers = (bin_edges[:-1] + bin_edges[1:]) / 2\n",
    "likelihood = np.zeros(50)\n",
    "\n",
    "for i, b_center in enumerate(bin_centers):\n",
    "    a_truncnorm = (a - mu) / sigma\n",
    "    b_truncnorm = (b_center - mu) / sigma\n",
    "    pdf = stats.truncnorm.pdf(observed_data, a=a_truncnorm, b=b_truncnorm, loc=mu, scale=sigma)\n",
    "    pdf_product = np.prod(pdf)\n",
    "    likelihood[i] = pdf_product\n",
    "\n",
    "# likelihood\n",
    "likelihood_normalized = likelihood / np.sum(likelihood)\n",
    "plt.bar(x=bins, height=likelihood_normalized, width=bin_width, edgecolor='black', color='red', label='Likelyhood', alpha=0.7)\n",
    "plt.show()"
   ],
   "metadata": {
    "collapsed": false,
    "ExecuteTime": {
     "end_time": "2023-12-12T01:43:30.923522Z",
     "start_time": "2023-12-12T01:43:30.656623Z"
    }
   },
   "id": "cb387bc602394504"
  },
  {
   "cell_type": "code",
   "execution_count": 61,
   "outputs": [
    {
     "data": {
      "text/plain": "<Figure size 640x480 with 1 Axes>",
      "image/png": "[encoded data removed]"
     },
     "metadata": {},
     "output_type": "display_data"
    }
   ],
   "source": [
    "# Aposteriórna pst\n",
    "posterior_probs = likelihood * bin_height\n",
    "posterior_probs_normalized = posterior_probs / np.sum(posterior_probs)\n",
    "plt.bar(bin_centers, posterior_probs_normalized, width=bin_width, edgecolor='black', color='green', label='Aposteriórne rozdelenie', alpha=0.7)\n",
    "plt.show()"
   ],
   "metadata": {
    "collapsed": false,
    "ExecuteTime": {
     "end_time": "2023-12-12T01:45:37.215714Z",
     "start_time": "2023-12-12T01:45:36.997058Z"
    }
   },
   "id": "e49b338be019423d"
  },
  {
   "cell_type": "code",
   "execution_count": 70,
   "outputs": [
    {
     "data": {
      "text/plain": "<Figure size 640x480 with 1 Axes>",
      "image/png": "[encoded data removed]"
     },
     "metadata": {},
     "output_type": "display_data"
    }
   ],
   "source": [
    "# Plot apriorné rozdelenie\n",
    "plt.bar(x=bins, height=bin_height, width=bin_width, color='blue', alpha=0.8, edgecolor='black')\n",
    "plt.bar(bin_centers, posterior_probs_normalized, width=bin_width, edgecolor='black', color='green', label='Aposteriórne rozdelenie', alpha=0.8)\n",
    "plt.bar(bin_centers, likelihood_normalized, width=bin_width, edgecolor='black', color='red', label='Vierohodnosť', alpha=0.4)\n",
    "plt.show()\n",
    "\n"
   ],
   "metadata": {
    "collapsed": false,
    "ExecuteTime": {
     "end_time": "2023-12-12T01:46:30.777029Z",
     "start_time": "2023-12-12T01:46:30.362215Z"
    }
   },
   "id": "1219406f6c665f60"
  },
  {
   "cell_type": "code",
   "execution_count": 74,
   "outputs": [
    {
     "name": "stdout",
     "output_type": "stream",
     "text": [
      "95% Confidence Interval for Parameter b: 5.69371, 7.00891\n"
     ]
    }
   ],
   "source": [
    "# Určení 95% intervalu spolehlivosti\n",
    "cumulative_posterior = np.cumsum(posterior_probs_normalized)\n",
    "lower_bound = bin_centers[np.argmax(cumulative_posterior >= 0.025)]\n",
    "upper_bound = bin_centers[np.argmax(cumulative_posterior >= 0.975)]\n",
    "print(f'95% Confidence Interval for Parameter b: {lower_bound:.5f}, {upper_bound:.5f}')"
   ],
   "metadata": {
    "collapsed": false,
    "ExecuteTime": {
     "end_time": "2023-12-12T01:52:26.126258Z",
     "start_time": "2023-12-12T01:52:26.122082Z"
    }
   },
   "id": "b6877d64a8ca4a68"
  },
  {
   "cell_type": "code",
   "execution_count": 75,
   "outputs": [
    {
     "name": "stdout",
     "output_type": "stream",
     "text": [
      "First point estimate: 6.05277131983235\n",
      "Second point estimate: 5.693712028182375\n"
     ]
    }
   ],
   "source": [
    "# Vybrání dvou bodových odhadů\n",
    "mean = np.sum(bin_centers * posterior_probs_normalized)\n",
    "median = bin_centers[np.argmax(posterior_probs_normalized)]\n",
    "print(f'First point estimate: {mean}')\n",
    "print(f'Second point estimate: {median}') # Is this value OK?"
   ],
   "metadata": {
    "collapsed": false,
    "ExecuteTime": {
     "end_time": "2023-12-12T01:52:26.411741Z",
     "start_time": "2023-12-12T01:52:26.400373Z"
    }
   },
   "id": "c039f4eb0210239f"
  },
  {
   "cell_type": "markdown",
   "source": [
    "# ULOHA 2 - ÚLOHA 2 – Regrese – 8. bodů"
   ],
   "metadata": {
    "collapsed": false
   },
   "id": "9f3e569e488f4583"
  },
  {
   "cell_type": "code",
   "execution_count": null,
   "outputs": [],
   "source": [
    "# Načtení dat\n",
    "data = pd.read_csv('Data_v1.0.csv')\n",
    "\n",
    "# Přidání kvadratických termínů\n",
    "data['ActiveUsers_squared'] = data['ActiveUsers'] ** 2\n",
    "data['InteractingPct_squared'] = data['InteractingPct'] ** 2\n",
    "data['ScrollingPct_squared'] = data['ScrollingPct'] ** 2\n",
    "\n",
    "# Přidání interakcí druhého řádu\n",
    "data['ActiveUsers_InteractingPct'] = data['ActiveUsers'] * data['InteractingPct']\n",
    "data['ActiveUsers_ScrollingPct'] = data['ActiveUsers'] * data['ScrollingPct']\n",
    "data['InteractingPct_ScrollingPct'] = data['InteractingPct'] * data['ScrollingPct']\n",
    "\n",
    "# Plný kvadratický model\n",
    "model_formula = 'ping ~ ActiveUsers + InteractingPct + ScrollingPct + ActiveUsers_squared + InteractingPct_squared + ScrollingPct_squared + ActiveUsers_InteractingPct + ActiveUsers_ScrollingPct + InteractingPct_ScrollingPct + OSType'\n",
    "\n",
    "# Fit regresního modelu\n",
    "model = sm.OLS.from_formula(model_formula, data=data)\n",
    "results = model.fit()\n",
    "\n",
    "# Výpis výsledků\n",
    "print(results.summary())\n",
    "\n",
    "# Regresní diagnostika\n",
    "sns.residplot(x=results.fittedvalues, y=results.resid)\n",
    "plt.xlabel('Fitted values')\n",
    "plt.ylabel('Residuals')\n",
    "plt.title('Residuals vs Fitted')\n",
    "plt.show()\n",
    "\n",
    "# Test normality reziduí\n",
    "sm.qqplot(results.resid, line='s')\n",
    "plt.title('Normal Q-Q plot')\n",
    "plt.show()\n",
    "\n",
    "# VIF pro detekci multicollinearity\n",
    "X = data[['ActiveUsers', 'InteractingPct', 'ScrollingPct', 'ActiveUsers_squared', 'InteractingPct_squared',\n",
    "          'ScrollingPct_squared', 'ActiveUsers_InteractingPct', 'ActiveUsers_ScrollingPct',\n",
    "          'InteractingPct_ScrollingPct']]\n",
    "vif_data = pd.DataFrame()\n",
    "vif_data['Variable'] = X.columns\n",
    "vif_data['VIF'] = [variance_inflation_factor(X.values, i) for i in range(X.shape[1])]\n",
    "print(vif_data)\n",
    "\n",
    "# Identifikace odlehlých hodnot\n",
    "influence = results.get_influence()\n",
    "leverage = influence.hat_matrix_diag\n",
    "residuals_studentized = influence.resid_studentized_internal\n",
    "outliers = np.where((np.abs(residuals_studentized) > 2) | (leverage > 0.02))\n",
    "\n",
    "# Vyhodnocení výsledků a rozhodnutí o odstranění odlehlých hodnot (pokud je to nutné)\n",
    "\n",
    "# Analýza parametrů\n",
    "param_analysis = results.params\n",
    "\n",
    "# Identifikace nejproblematičtější hodnoty\n",
    "max_residual = data.loc[outliers[0], 'ping'].max()\n",
    "\n",
    "# Odhad odezvy uživatele s Windows\n",
    "windows_user = pd.DataFrame({'ActiveUsers': [data['ActiveUsers'].mean()],\n",
    "                             'InteractingPct': [data['InteractingPct'].mean()],\n",
    "                             'ScrollingPct': [data['ScrollingPct'].mean()],\n",
    "                             'ActiveUsers_squared': [data['ActiveUsers_squared'].mean()],\n",
    "                             'InteractingPct_squared': [data['InteractingPct_squared'].mean()],\n",
    "                             'ScrollingPct_squared': [data['ScrollingPct_squared'].mean()],\n",
    "                             'ActiveUsers_InteractingPct': [data['ActiveUsers_InteractingPct'].mean()],\n",
    "                             'ActiveUsers_ScrollingPct': [data['ActiveUsers_ScrollingPct'].mean()],\n",
    "                             'InteractingPct_ScrollingPct': [data['InteractingPct_ScrollingPct'].mean()],\n",
    "                             'OSType': ['Windows']})\n",
    "predicted_ping = results.predict(windows_user)\n",
    "\n",
    "# Konfidenční interval a predikční interval\n",
    "conf_interval = results.get_prediction(windows_user).conf_int()\n",
    "pred_interval = results.get_prediction(windows_user).conf_int(obs=True)\n",
    "\n",
    "# Vyhodnocení modelu pro další použití\n",
    "# Zde můžete diskutovat o tom, zda jsou výsledky modelu uspokojivé a zdali je model vhodný pro další použití.\n"
   ],
   "metadata": {
    "collapsed": false
   },
   "id": "e42d89a374cadf31"
  },
  {
   "cell_type": "code",
   "execution_count": null,
   "outputs": [],
   "source": [],
   "metadata": {
    "collapsed": false
   },
   "id": "5f9d918134eb8617"
  }
 ],
 "metadata": {
  "kernelspec": {
   "display_name": "Python 3",
   "language": "python",
   "name": "python3"
  },
  "language_info": {
   "codemirror_mode": {
    "name": "ipython",
    "version": 2
   },
   "file_extension": ".py",
   "mimetype": "text/x-python",
   "name": "python",
   "nbconvert_exporter": "python",
   "pygments_lexer": "ipython2",
   "version": "2.7.6"
  }
 },
 "nbformat": 4,
 "nbformat_minor": 5
}
