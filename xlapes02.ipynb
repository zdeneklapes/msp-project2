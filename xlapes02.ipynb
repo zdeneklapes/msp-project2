{
 "cells": [
  {
   "cell_type": "code",
   "execution_count": null,
   "id": "initial_id",
   "metadata": {
    "collapsed": true
   },
   "outputs": [],
   "source": [
    "import numpy as np\n",
    "import matplotlib.pyplot as plt\n",
    "import scipy.stats as stats\n",
    "import pandas as pd\n",
    "from scipy import stats\n",
    "import statsmodels.api as sm\n",
    "from statsmodels.stats.outliers_influence import variance_inflation_factor\n",
    "import seaborn as sns\n",
    "\n",
    "# Dark theme\n",
    "plt.style.use('dark_background')\n",
    "\n",
    "# set grid thickness\n",
    "plt.rcParams['grid.linewidth'] = 0.3\n",
    "\n",
    "DEBUG = False"
   ]
  },
  {
   "cell_type": "markdown",
   "source": [
    "# Nacteni dat"
   ],
   "metadata": {
    "collapsed": false
   },
   "id": "8faa4d901f97b7ca"
  },
  {
   "cell_type": "code",
   "execution_count": null,
   "outputs": [],
   "source": [
    "def print_debug(*args, **kwargs):\n",
    "    global DEBUG\n",
    "    if DEBUG:\n",
    "        print(*args, **kwargs)"
   ],
   "metadata": {
    "collapsed": false
   },
   "id": "992af79428e2289c"
  },
  {
   "cell_type": "code",
   "execution_count": null,
   "outputs": [],
   "source": [
    "def load_data():\n",
    "    DEBUG = True\n",
    "    excel_file = pd.ExcelFile(\"Projekt-2_Data.xlsx\")\n",
    "    print_debug(excel_file.sheet_names)\n",
    "\n",
    "    df_uloha_1: pd.DataFrame = excel_file.parse(excel_file.sheet_names[0])\n",
    "    df_uloha_2 = excel_file.parse(excel_file.sheet_names[1])\n",
    "    print_debug(df_uloha_1.head())\n",
    "    print_debug(df_uloha_2.head())\n",
    "    return {\n",
    "        '1': df_uloha_1,\n",
    "        '1_a': df_uloha_1['uloha_1 a)'],\n",
    "        '1_b_prior': df_uloha_1['uloha_1 b)_prior'],\n",
    "        '1_g': df_uloha_1['skupina'],\n",
    "        '1_b_observation': df_uloha_1['uloha_1 b)_pozorování'],\n",
    "        '2': df_uloha_2,\n",
    "        '2_os': df_uloha_2['OSType'],\n",
    "        '2_as': df_uloha_2['ActiveUsers'],\n",
    "        '2_ip': df_uloha_2['InteractingPct'],\n",
    "        '2_sp': df_uloha_2['ScrollingPct'],\n",
    "        '2_p': df_uloha_2['Ping [ms]'],\n",
    "    }\n",
    "\n",
    "\n",
    "data = load_data()"
   ],
   "metadata": {
    "collapsed": false
   },
   "id": "2b35686f6ec7b1cb"
  },
  {
   "cell_type": "code",
   "execution_count": null,
   "outputs": [],
   "source": [
    "# data"
   ],
   "metadata": {
    "collapsed": false
   },
   "id": "90a1e1ed62ddd8a2"
  },
  {
   "cell_type": "markdown",
   "source": [
    "# ULOHA 1 - Bayesovske odhady"
   ],
   "metadata": {
    "collapsed": false
   },
   "id": "ea8e6d01d0bc2356"
  },
  {
   "cell_type": "markdown",
   "source": [
    "## ULOHA 1.a - Konjugované apriorní a aposteriorní rozdělení, prediktivní rozdělení [2 body]"
   ],
   "metadata": {
    "collapsed": false
   },
   "id": "9c2fd2c0a26ad612"
  },
  {
   "cell_type": "markdown",
   "source": [
    "### Cleaning data\n",
    "- Remove outliers"
   ],
   "metadata": {
    "collapsed": false
   },
   "id": "c84dbe5f0008631e"
  },
  {
   "cell_type": "code",
   "execution_count": null,
   "outputs": [],
   "source": [
    "def task_1_b_data():\n",
    "    connections = 10\n",
    "    time = 5\n",
    "    info_df1 = data\n",
    "    return {\n",
    "        'connections': connections,\n",
    "        'time': time,\n",
    "        'info_df1': info_df1\n",
    "    }"
   ],
   "metadata": {
    "collapsed": false
   },
   "id": "3b7c879a101f45c"
  },
  {
   "cell_type": "code",
   "execution_count": null,
   "outputs": [],
   "source": [
    "def task_1_b_cleared_data(df_uloha_1: pd.DataFrame):\n",
    "    # Extract observed data\n",
    "    observed_data = df_uloha_1.values\n",
    "    print_debug(f\"{observed_data=}\")\n",
    "    print_debug(f\"{len(observed_data)=}\")\n",
    "\n",
    "    # remove nan or +-inf values\n",
    "    observed_data = observed_data[~np.isnan(observed_data)]\n",
    "    print_debug(f\"{observed_data=}\")\n",
    "    print_debug(f\"{len(observed_data)=}\")\n",
    "\n",
    "    # Calculate Z-scores\n",
    "    z_scores = stats.zscore(observed_data, nan_policy='raise')\n",
    "    print_debug(f\"{z_scores=}\")\n",
    "    print_debug(f\"{len(observed_data)=}\")\n",
    "\n",
    "    # Define a threshold for outliers (e.g., 3 standard deviations)\n",
    "    threshold = 3\n",
    "\n",
    "    # Filter out rows with Z-scores beyond the threshold\n",
    "    filtered_data = observed_data[(np.abs(z_scores) < threshold)]\n",
    "    print_debug(f\"{filtered_data=}\")\n",
    "    print_debug(f\"{len(observed_data)=}\")\n",
    "\n",
    "    # Display the number of removed outliers\n",
    "    print_debug(f\"Number of removed outliers: {len(df_uloha_1.values) - len(filtered_data)}\")\n",
    "    return filtered_data\n",
    "\n",
    "\n",
    "filtered_data = task_1_b_cleared_data(data['1_a'])\n",
    "filtered_data"
   ],
   "metadata": {
    "collapsed": false
   },
   "id": "4b3113fea612dc3f"
  },
  {
   "cell_type": "markdown",
   "source": [
    "## ULOHA 1.a.1 - Do jednoho obrázku vykreslíte apriorní a aposteriorní hustotou parametru Poissonova rozdělení $\\lambda$."
   ],
   "metadata": {
    "collapsed": false
   },
   "id": "eb3e90d9765568cd"
  },
  {
   "cell_type": "code",
   "execution_count": null,
   "outputs": [],
   "source": [
    "def task_1_a_1_data():\n",
    "    # Expertní odhad parametru λ\n",
    "    lambda_expert = 10 / 5  # 10 připojení za 5 ms\n",
    "    alpha_prior = 10  # connection count\n",
    "    # alpha_prior = 2\n",
    "    beta_prior = 5  # time within the connection count (alpha_prior) was observed\n",
    "    # beta_prior = 1\n",
    "    return {\n",
    "        'lambda_expert': lambda_expert,\n",
    "        'alpha_prior': alpha_prior,\n",
    "        'beta_prior': beta_prior\n",
    "    }"
   ],
   "metadata": {
    "collapsed": false
   },
   "id": "2906ee1a55a4a635"
  },
  {
   "cell_type": "code",
   "execution_count": null,
   "outputs": [],
   "source": [
    "def task_1_a_1_prior():\n",
    "    data = task_1_a_1_data()\n",
    "    alpha_prior = data['alpha_prior']\n",
    "    beta_prior = data['beta_prior']\n",
    "    \n",
    "    # lambda prior\n",
    "    lambda_prior = alpha_prior / beta_prior\n",
    "    print_debug(f\"{lambda_prior=}\")\n",
    "\n",
    "    x = np.linspace(0, np.max(filtered_data), 1000)\n",
    "    y = stats.gamma.pdf(x, alpha_prior, scale=1 / beta_prior)\n",
    "    return {\n",
    "        'x': x,\n",
    "        'y': y,\n",
    "        \"alpha_prior\": alpha_prior,\n",
    "        \"beta_prior\": beta_prior\n",
    "    }\n"
   ],
   "metadata": {
    "collapsed": false
   },
   "id": "b7f277b96126017e"
  },
  {
   "cell_type": "code",
   "execution_count": null,
   "outputs": [],
   "source": [
    "def task_1_a_1_posterior():\n",
    "    data = task_1_a_1_data()\n",
    "    alpha_prior = data['alpha_prior']\n",
    "    beta_prior = data['beta_prior']\n",
    "    \n",
    "    # posterior\n",
    "    alpha_posterior = alpha_prior + np.sum(filtered_data)\n",
    "    beta_posterior = beta_prior + len(filtered_data)\n",
    "\n",
    "    # lambda_posterior\n",
    "    lambda_posterior = alpha_posterior / beta_posterior\n",
    "    print_debug(f\"{lambda_posterior=}\")\n",
    "\n",
    "    # Posterior\n",
    "    x = np.linspace(0, np.max(filtered_data), 1000)\n",
    "    y = stats.gamma.pdf(x, alpha_posterior, scale=1 / beta_posterior)\n",
    "    return {\n",
    "        'x': x,\n",
    "        'y': y,\n",
    "        \"alpha_posterior\": alpha_posterior,\n",
    "        \"beta_posterior\": beta_posterior\n",
    "    }"
   ],
   "metadata": {
    "collapsed": false
   },
   "id": "89818cc14c30c52b"
  },
  {
   "cell_type": "code",
   "execution_count": null,
   "outputs": [],
   "source": [
    "def task_1_a_1_plot():\n",
    "    data_prior = task_1_a_1_prior()\n",
    "    x = task_1_a_1_prior()['x']\n",
    "    y = task_1_a_1_prior()['y']\n",
    "    plt.plot(x, y, label = 'Posterior', color = 'blue')\n",
    "    data_posterior = task_1_a_1_posterior()\n",
    "    x = task_1_a_1_posterior()['x']\n",
    "    y = task_1_a_1_posterior()['y']\n",
    "    plt.plot(x, y, label = 'Posterior', color = 'red')\n",
    "    plt.title('Prior and Posterior Distributions')\n",
    "    plt.xlabel('Lambda')\n",
    "    plt.ylabel('Probability Density')\n",
    "    plt.legend()\n",
    "    plt.show()\n",
    "task_1_a_1_plot()"
   ],
   "metadata": {
    "collapsed": false
   },
   "id": "a3741582c5dfc59f"
  },
  {
   "cell_type": "markdown",
   "source": [
    "## ULOHA 1.a.2 - Do jednoho obrázku vykreslíte apriorní a aposteriorní prediktivní hustotou pozorovaní $x$ za jeden časový interval."
   ],
   "metadata": {
    "collapsed": false
   },
   "id": "61f0af1e772456ac"
  },
  {
   "cell_type": "code",
   "execution_count": null,
   "outputs": [],
   "source": [
    "def task_1_a_2_prior():\n",
    "    data = task_1_a_1_data()\n",
    "    alpha_prior = data['alpha_prior']\n",
    "    beta_prior = data['beta_prior']\n",
    "    lambda_prior = data['lambda_expert']\n",
    "\n",
    "    alpha_posterior = alpha_prior + np.sum(filtered_data)  # Assuming filtered_data is defined\n",
    "    beta_posterior = beta_prior + len(filtered_data)\n",
    "\n",
    "    lambda_posterior = alpha_posterior / beta_posterior\n",
    "    print(f\"{lambda_posterior=}\")\n",
    "\n",
    "    x = range(0, 6)\n",
    "    y = stats.nbinom.pmf(x, alpha_prior, beta_prior / (1 + beta_prior))\n",
    "    return x, y"
   ],
   "metadata": {
    "collapsed": false
   },
   "id": "4ab96befce46a20a"
  },
  {
   "cell_type": "code",
   "execution_count": null,
   "outputs": [],
   "source": [
    "def task_1_a_2_posterior():\n",
    "    data = task_1_a_1_data()\n",
    "    alpha_prior = data['alpha_prior']\n",
    "    beta_prior = data['beta_prior']\n",
    "    lambda_prior = data['lambda_expert']\n",
    "\n",
    "    alpha_posterior = alpha_prior + np.sum(filtered_data)  # Assuming filtered_data is defined\n",
    "    beta_posterior = beta_prior + len(filtered_data)\n",
    "\n",
    "    x = range(0, 6)\n",
    "    y = stats.nbinom.pmf(x, alpha_posterior, beta_posterior / (1 + beta_posterior))\n",
    "    return x, y"
   ],
   "metadata": {
    "collapsed": false
   },
   "id": "73ca523fb4a1efcd"
  },
  {
   "cell_type": "code",
   "execution_count": null,
   "outputs": [],
   "source": [
    "def task_1_a_2_plot():\n",
    "    x, y = task_1_a_2_prior()\n",
    "    plt.plot(x, y, label='Prior predictive', color='blue')\n",
    "    x, y = task_1_a_2_posterior()\n",
    "    plt.plot(x, y, label='Prior predictive', color='red')\n",
    "    plt.title('Prior and Posterior Predictive densities')\n",
    "    plt.xlabel('How many (x) connections?')\n",
    "    plt.ylabel('Probability of (x) connections')\n",
    "    plt.legend()\n",
    "    plt.show()\n",
    "task_1_a_2_plot()"
   ],
   "metadata": {
    "collapsed": false
   },
   "id": "b54b0a6d31eabe5c"
  },
  {
   "cell_type": "code",
   "execution_count": null,
   "outputs": [],
   "source": [
    "def task_1_a_3():\n",
    "    global DEBUG\n",
    "    DEBUG = True\n",
    "    data = task_1_a_1_data()\n",
    "    alpha_prior = data['alpha_prior']\n",
    "    beta_prior = data['beta_prior']\n",
    "\n",
    "    alpha_posterior = alpha_prior + np.sum(filtered_data)  # Assuming filtered_data is defined\n",
    "    beta_posterior = beta_prior + len(filtered_data)\n",
    "    \n",
    "    # Task 3: Construct 95% confidence intervals for λ from prior and posterior distributions\n",
    "    prior_ci = stats.gamma.interval(0.95, alpha_prior, scale=1 / beta_prior)\n",
    "    posterior_ci = stats.gamma.interval(0.95, alpha_posterior, scale=1 / beta_posterior)\n",
    "\n",
    "    print_debug(f\"Prior 95% CI for λ: {prior_ci[0]:.5f}, {prior_ci[1]:.5f}\")\n",
    "    print_debug(f\"Posterior 95% CI for λ: {posterior_ci[0]:.5f}, {posterior_ci[1]:.5f}\")\n",
    "    \n",
    "task_1_a_3()"
   ],
   "metadata": {
    "collapsed": false
   },
   "id": "8cf92de43e82ec5"
  },
  {
   "cell_type": "code",
   "execution_count": null,
   "outputs": [],
   "source": [
    "def task_1_a_4():\n",
    "    global DEBUG\n",
    "    DEBUG = True\n",
    "    data = task_1_a_1_data()\n",
    "    alpha_prior = data['alpha_prior']\n",
    "    beta_prior = data['beta_prior']\n",
    "    \n",
    "    alpha_posterior = alpha_prior + np.sum(filtered_data)  # Assuming filtered_data is defined\n",
    "    beta_posterior = beta_prior + len(filtered_data)\n",
    "    \n",
    "    # Task 4: Select two posterior point estimates for λ and compare them\n",
    "    posterior_mean = alpha_posterior / beta_posterior\n",
    "    posterior_mode = (alpha_posterior - 1) / beta_posterior\n",
    "\n",
    "    print(f\"Aposteriori mean: {posterior_mean:.5f}\")\n",
    "    print(f\"Aposteriori mode: {posterior_mode:.5f}\")\n",
    "task_1_a_4()"
   ],
   "metadata": {
    "collapsed": false
   },
   "id": "23eec04c38e9d7ea"
  },
  {
   "cell_type": "code",
   "execution_count": null,
   "outputs": [],
   "source": [
    "def task_1_a_5():\n",
    "    global DEBUG\n",
    "    DEBUG = True\n",
    "    data = task_1_a_1_data()\n",
    "    alpha_prior = data['alpha_prior']\n",
    "    beta_prior = data['beta_prior']\n",
    "    \n",
    "    alpha_posterior = alpha_prior + np.sum(filtered_data)  # Assuming filtered_data is defined\n",
    "    beta_posterior = beta_prior + len(filtered_data)\n",
    "    \n",
    "    # Task 5: Select one prior and one posterior point estimate for the number of observations\n",
    "    mu_prior = alpha_prior / beta_prior\n",
    "    mu_posterior = alpha_posterior / beta_posterior\n",
    "\n",
    "    print(f\"Prior estimate: {mu_prior:.5f}\")\n",
    "    print(f\"Posterior estimate: {mu_posterior:.5f}\")\n",
    "task_1_a_5()"
   ],
   "metadata": {
    "collapsed": false
   },
   "id": "6a1acc8b3c9bdc64"
  },
  {
   "cell_type": "markdown",
   "source": [
    "## ULOHA 1.b - Aproximace diskrétním rozdělením [2 body]"
   ],
   "metadata": {
    "collapsed": false
   },
   "id": "2b589a996eefb57"
  },
  {
   "cell_type": "markdown",
   "source": [
    "### Load data"
   ],
   "metadata": {
    "collapsed": false
   },
   "id": "bf7d991f2c9c2966"
  },
  {
   "cell_type": "code",
   "execution_count": 57,
   "outputs": [],
   "source": [
    "def task_1_b_cleared_data(prior_data,\n",
    "                          observed_data, \n",
    "                          group_column):\n",
    "    global DEBUG\n",
    "    DEBUG = 1\n",
    "\n",
    "    #Filter inf and nan values\n",
    "    prior_data = prior_data[~np.isnan(prior_data)]\n",
    "    observed_data = observed_data[~np.isnan(observed_data)]\n",
    "    group_column = group_column[~np.isnan(group_column)]\n",
    "    print_debug(f\"{prior_data=}\")\n",
    "    print_debug(f\"{len(prior_data)=}\")\n",
    "    print_debug()\n",
    "    print_debug(f\"{observed_data=}\")\n",
    "    print_debug(f\"{len(observed_data)=}\")\n",
    "    print_debug()\n",
    "    print_debug(f\"{group_column=}\")\n",
    "    print_debug(f\"{len(group_column)=}\")\n",
    "    print_debug()\n",
    "    return {\n",
    "        'prior_data': prior_data,\n",
    "        'observed_data': observed_data,\n",
    "        'group_column': group_column\n",
    "    }\n",
    "    \n",
    "# task_1_b_cleared_data(data['1_b_prior'], data['1_b_observation'], data['1_g'])"
   ],
   "metadata": {
    "collapsed": false,
    "ExecuteTime": {
     "end_time": "2023-12-12T00:01:54.159230Z",
     "start_time": "2023-12-12T00:01:54.141945Z"
    }
   },
   "id": "93c235e6837e24bb"
  },
  {
   "cell_type": "markdown",
   "source": [
    "### Uloha 1.b.1: Plot prior, posterior, and likelihood functions"
   ],
   "metadata": {
    "collapsed": false
   },
   "id": "4b8fc29504a9fa37"
  },
  {
   "cell_type": "code",
   "execution_count": 58,
   "outputs": [],
   "source": [
    "def task_1_b_1_data():\n",
    "    global DEBUG\n",
    "    # parameters for prior distribution\n",
    "    mu = 3\n",
    "    sigma_squared = 1\n",
    "    a = 1\n",
    "    return {\n",
    "        'mu': mu,\n",
    "        'sigma_squared': sigma_squared,\n",
    "        'a': a\n",
    "    }"
   ],
   "metadata": {
    "collapsed": false,
    "ExecuteTime": {
     "end_time": "2023-12-12T00:03:14.671215Z",
     "start_time": "2023-12-12T00:03:14.637260Z"
    }
   },
   "id": "2b870f0e5e5523d3"
  },
  {
   "cell_type": "code",
   "execution_count": 113,
   "outputs": [
    {
     "ename": "NameError",
     "evalue": "name 'prior_data' is not defined",
     "output_type": "error",
     "traceback": [
      "\u001B[0;31m---------------------------------------------------------------------------\u001B[0m",
      "\u001B[0;31mNameError\u001B[0m                                 Traceback (most recent call last)",
      "Cell \u001B[0;32mIn[113], line 30\u001B[0m\n\u001B[1;32m     28\u001B[0m \u001B[38;5;66;03m# Prior distribution\u001B[39;00m\n\u001B[1;32m     29\u001B[0m bins \u001B[38;5;241m=\u001B[39m \u001B[38;5;241m50\u001B[39m  \u001B[38;5;66;03m# number of intervals\u001B[39;00m\n\u001B[0;32m---> 30\u001B[0m hist, bin_edges \u001B[38;5;241m=\u001B[39m np\u001B[38;5;241m.\u001B[39mhistogram(\u001B[43mprior_data\u001B[49m, bins\u001B[38;5;241m=\u001B[39mbins, density\u001B[38;5;241m=\u001B[39m\u001B[38;5;28;01mTrue\u001B[39;00m)\n\u001B[1;32m     31\u001B[0m print_debug(\u001B[38;5;124mf\u001B[39m\u001B[38;5;124m\"\u001B[39m\u001B[38;5;132;01m{\u001B[39;00mhist\u001B[38;5;132;01m=}\u001B[39;00m\u001B[38;5;124m\"\u001B[39m)\n\u001B[1;32m     32\u001B[0m print_debug(\u001B[38;5;124mf\u001B[39m\u001B[38;5;124m\"\u001B[39m\u001B[38;5;132;01m{\u001B[39;00m\u001B[38;5;28mlen\u001B[39m(hist)\u001B[38;5;132;01m=}\u001B[39;00m\u001B[38;5;124m\"\u001B[39m)\n",
      "\u001B[0;31mNameError\u001B[0m: name 'prior_data' is not defined"
     ]
    }
   ],
   "source": [
    "def task_1_b_1_prior(prior_data):\n",
    "    global DEBUG\n",
    "    DEBUG = 0\n",
    "\n",
    "    # Prior distribution\n",
    "    bins = 50  # number of intervals\n",
    "    hist, bin_edges = np.histogram(prior_data, bins=bins, density=True)\n",
    "    print_debug(f\"{hist=}\")\n",
    "    print_debug(f\"{len(hist)=}\")\n",
    "    print_debug()\n",
    "    print_debug(f\"{bin_edges=}\")\n",
    "    print_debug(f\"{len(bin_edges)=}\")\n",
    "\n",
    "    bin_centers = (bin_edges[:-1] + bin_edges[1:]) / 2\n",
    "    bin_max = np.max(bin_edges)\n",
    "    # print_debug(f\"{bin_centers=}\")\n",
    "    # print_debug(f\"{len(bin_centers)=}\")\n",
    "\n",
    "    # Normalizace apriorního rozdělení\n",
    "    prior_distribution = hist / np.sum(hist)\n",
    "    return {\n",
    "        'bin_centers': bin_centers,\n",
    "        'bin_max': bin_max,\n",
    "        'bin_edges': bin_edges,\n",
    "        'prior_distribution': prior_distribution\n",
    "    }\n"
   ],
   "metadata": {
    "collapsed": false,
    "ExecuteTime": {
     "end_time": "2023-12-12T00:15:25.408166Z",
     "start_time": "2023-12-12T00:15:25.402022Z"
    }
   },
   "id": "77f28d7f9ee118e9"
  },
  {
   "cell_type": "code",
   "execution_count": null,
   "outputs": [],
   "source": [],
   "metadata": {
    "collapsed": false
   },
   "id": "eb4e10d6d86186a8"
  },
  {
   "cell_type": "code",
   "execution_count": 119,
   "outputs": [
    {
     "data": {
      "text/plain": "array([1.32840083, 1.45596061, 1.58352039, 1.71108017, 1.83863995,\n       1.96619973, 2.09375951, 2.22131929, 2.34887907, 2.47643885,\n       2.60399863, 2.73155841, 2.85911818, 2.98667796, 3.11423774,\n       3.24179752, 3.3693573 , 3.49691708, 3.62447686, 3.75203664,\n       3.87959642, 4.0071562 , 4.13471598, 4.26227576, 4.38983554,\n       4.51739532, 4.6449551 , 4.77251488, 4.90007465, 5.02763443,\n       5.15519421, 5.28275399, 5.41031377, 5.53787355, 5.66543333,\n       5.79299311, 5.92055289, 6.04811267, 6.17567245, 6.30323223,\n       6.43079201, 6.55835179, 6.68591157, 6.81347135, 6.94103112,\n       7.0685909 , 7.19615068, 7.32371046, 7.45127024, 7.57883002])"
     },
     "execution_count": 119,
     "metadata": {},
     "output_type": "execute_result"
    }
   ],
   "source": [
    "# Prior distribution\n",
    "bins = 50  # number of intervals\n",
    "hist, bin_edges = np.histogram(data['1_b_prior'], bins=bins, density=True)\n",
    "print_debug(f\"{hist=}\")\n",
    "print_debug(f\"{len(hist)=}\")\n",
    "print_debug()\n",
    "print_debug(f\"{bin_edges=}\")\n",
    "print_debug(f\"{len(bin_edges)=}\")\n",
    "\n",
    "bin_centers = (bin_edges[:-1] + bin_edges[1:]) / 2\n",
    "# bin_max = np.max(bin_edges)\n",
    "bin_centers\n",
    "bin_edges[:-1]\n",
    "bin_edges[1:]"
   ],
   "metadata": {
    "collapsed": false,
    "ExecuteTime": {
     "end_time": "2023-12-12T00:16:57.138256Z",
     "start_time": "2023-12-12T00:16:57.125782Z"
    }
   },
   "id": "dd312238cc942fac"
  },
  {
   "cell_type": "code",
   "execution_count": 112,
   "outputs": [
    {
     "data": {
      "text/plain": "<Figure size 640x480 with 1 Axes>",
      "image/png": "[encoded data removed]"
     },
     "metadata": {},
     "output_type": "display_data"
    }
   ],
   "source": [
    "def task_1_b_1_plot_prior():\n",
    "    prior = task_1_b_1_prior(data['1_b_prior'])\n",
    "\n",
    "    bins = prior['bin_centers']\n",
    "    # bins = prior['bin_max']\n",
    "    prior_distribution = prior['prior_distribution']\n",
    "    bin_edges = prior['bin_edges']\n",
    "    width = bin_edges[1] - bin_edges[0]\n",
    "    \n",
    "    # Vykreslení apriorního rozdělení\n",
    "    plt.bar(x=bins, height=prior_distribution, width=width, color='blue', alpha=0.7)\n",
    "    plt.title('Apriorní rozdělení parametru b')\n",
    "    plt.xlabel('Hodnota parametru b')\n",
    "    plt.ylabel('Pravděpodobnost')\n",
    "    plt.show()\n",
    "\n",
    "t_1_b_1 = task_1_b_1_plot_prior()"
   ],
   "metadata": {
    "collapsed": false,
    "ExecuteTime": {
     "end_time": "2023-12-12T00:13:57.776890Z",
     "start_time": "2023-12-12T00:13:57.349955Z"
    }
   },
   "id": "6be5feb8c09117ef"
  },
  {
   "cell_type": "code",
   "execution_count": null,
   "outputs": [],
   "source": [
    "def task_1_b_1_likelyhood():\n",
    "    # Likelihood function\n",
    "    # likelihood_values = np.zeros_like(x)\n",
    "    # \n",
    "    # alpha = (a - 1) / sigma_squared\n",
    "    # for obs in observed_data:\n",
    "    #     likelihood_values += stats.truncnorm.pdf(x,\n",
    "    #                                              a=alpha,\n",
    "    #                                              b=obs,\n",
    "    #                                              loc=mu,\n",
    "    #                                              scale=sigma_squared)\n",
    "    # \n",
    "    # # Normalize likelihood for comparability\n",
    "    # likelihood_values /= np.sum(likelihood_values)\n",
    "    # Parametry truncated normálního rozdělení\n",
    "    mu = 3\n",
    "    sigma = np.sqrt(1)\n",
    "    a = 1\n",
    "\n",
    "    # Vytvoření diskrétní aproximace funkce věrohodnosti\n",
    "    likelihood_function = np.zeros((len(observed_data), len(prior_data)))\n",
    "\n",
    "    # for i, d_i in enumerate(observed_data):\n",
    "    #     for j, b_i in enumerate(prior_data):\n",
    "    #         lower_bound = (a - mu) / sigma\n",
    "    #         upper_bound = np.inf\n",
    "    #         likelihood_function[i, j] = stats.truncnorm.pdf(d_i, lower_bound, upper_bound, loc=mu, scale=sigma)\n",
    "\n",
    "    # Normalizace funkce věrohodnosti\n",
    "    likelihood_function /= np.sum(likelihood_function, axis=0)\n"
   ],
   "metadata": {
    "collapsed": false,
    "is_executing": true
   },
   "id": "cb387bc602394504"
  },
  {
   "cell_type": "code",
   "execution_count": null,
   "outputs": [],
   "source": [
    "def task_1_b_1_plot_likelihood():\n",
    "    task_1_b_1_likelyhood()\n",
    "    \n",
    "    # TODO\n",
    "    # plt.plot(prior_data[:3], likelihood_function[:3, :].T, marker='o')\n",
    "    \n",
    "    plt.title('Diskrétní aproximace funkce věrohodnosti')\n",
    "    plt.xlabel('Hodnota parametru b')\n",
    "    plt.ylabel('Pravděpodobnost')\n",
    "    plt.legend(['P(d_1 | b)', 'P(d_2 | b)', 'P(d_3 | b)'])\n",
    "    plt.show()\n"
   ],
   "metadata": {
    "collapsed": false
   },
   "id": "847be27c3bb0bb27"
  },
  {
   "cell_type": "code",
   "execution_count": null,
   "outputs": [],
   "source": [
    "# Bayes rule\n",
    "posterior_distribution = prior_distribution * likelihood_values\n",
    "posterior_distribution /= np.sum(posterior_distribution)\n"
   ],
   "metadata": {
    "collapsed": false
   },
   "id": "18dd5477618376da"
  },
  {
   "cell_type": "code",
   "execution_count": null,
   "outputs": [],
   "source": [
    "plt.plot(x, prior_distribution, label='Prior', color='blue')\n",
    "plt.plot(x, posterior_distribution, label='Posterior', color='red')\n",
    "plt.plot(x, likelihood_values, label='Likelihood', color='green')\n",
    "\n",
    "plt.title('Prior, Likelihood, and Posterior Distributions for Parameter b')\n",
    "plt.xlabel('b')\n",
    "plt.ylabel('Density')\n",
    "plt.legend()\n",
    "plt.show()"
   ],
   "metadata": {
    "collapsed": false
   },
   "id": "9df14552417ec2a"
  },
  {
   "cell_type": "code",
   "execution_count": null,
   "outputs": [],
   "source": [
    "# Určení 95% intervalu spolehlivosti\n",
    "cumulative_posterior = np.cumsum(posterior_distribution)\n",
    "lower_bound = x[np.argmax(cumulative_posterior >= 0.025)]\n",
    "upper_bound = x[np.argmax(cumulative_posterior >= 0.975)]\n",
    "print(f'95% Confidence Interval for Parameter b: {lower_bound:.5f}, {upper_bound:.5f}')\n"
   ],
   "metadata": {
    "collapsed": false
   },
   "id": "b6877d64a8ca4a68"
  },
  {
   "cell_type": "code",
   "execution_count": null,
   "outputs": [],
   "source": [
    "# Vybrání dvou bodových odhadů\n",
    "point_estimate_1 = np.sum(x * posterior_distribution)\n",
    "point_estimate_2 = x[np.argmax(posterior_distribution)]\n",
    "print(f'First point estimate: {point_estimate_1}')\n",
    "print(f'Second point estimate: {point_estimate_2}')\n"
   ],
   "metadata": {
    "collapsed": false
   },
   "id": "c039f4eb0210239f"
  },
  {
   "cell_type": "code",
   "execution_count": null,
   "outputs": [],
   "source": [
    "DEBUG = 1\n",
    "mu = 3\n",
    "sigma_squared = 1\n",
    "a = 1\n",
    "\n",
    "# Prior distribution parameters\n",
    "x = np.linspace(start=0, stop=10, num=100)\n",
    "print_debug(f\"{x=}\")\n",
    "print_debug(f\"{len(x)=}\")\n",
    "print()\n",
    "\n",
    "prior_values = stats.truncnorm.pdf(x,\n",
    "                                   (a - mu) / np.sqrt(sigma_squared),\n",
    "                                   np.inf,\n",
    "                                   loc=mu,\n",
    "                                   scale=np.sqrt(sigma_squared))\n",
    "\n",
    "# Likelihood function\n",
    "likelihood_values = np.zeros_like(x)\n",
    "print_debug(f\"{likelihood_values=}\")\n",
    "print_debug(f\"{len(likelihood_values)=}\")\n",
    "print()\n",
    "\n",
    "group = df_uloha_1['skupina'].unique()[0]\n",
    "print_debug(f\"{group=}\")\n",
    "print()\n",
    "\n",
    "group_observed_data = observed_data[group_column == group]\n",
    "print_debug(f\"{group_observed_data=}\")\n",
    "print_debug(f\"{len(group_observed_data)=}\")\n",
    "print()\n",
    "\n",
    "hist = np.histogram(group_observed_data, bins=x, density=True)[0]\n",
    "print_debug(f\"{hist=}\")\n",
    "print_debug(f\"{len(hist)=}\")\n"
   ],
   "metadata": {
    "collapsed": false
   },
   "id": "40f08806d8e81d6a"
  },
  {
   "cell_type": "code",
   "execution_count": null,
   "outputs": [],
   "source": [
    "\n"
   ],
   "metadata": {
    "collapsed": false
   },
   "id": "d9c6d9b153c7fb78"
  },
  {
   "cell_type": "code",
   "execution_count": null,
   "outputs": [],
   "source": [
    "for group in df_uloha_1['skupina'].unique():\n",
    "    group_observed_data = observed_data[group_column == group]\n",
    "    likelihood_values += np.histogram(group_observed_data, bins=len(x), density=True)[0] / len(\n",
    "        df_uloha_1[df_uloha_1['skupina'] == group])\n",
    "print_debug(f\"{likelihood_values=}\")\n",
    "print_debug(f\"{len(likelihood_values)=}\")"
   ],
   "metadata": {
    "collapsed": false
   },
   "id": "2188941f3b2a1135"
  },
  {
   "cell_type": "code",
   "execution_count": null,
   "outputs": [],
   "source": [
    "# Normalize likelihood for comparability\n",
    "likelihood_values /= np.sum(likelihood_values)\n",
    "\n",
    "# Posterior distribution parameters\n",
    "posterior_values = prior_values * likelihood_values\n",
    "print_debug(f\"{posterior_values=}\")\n",
    "posterior_values /= np.sum(posterior_values)\n",
    "print_debug(f\"{posterior_values=}\")\n",
    "\n",
    "# Plot prior, posterior, and likelihood functions\n",
    "plt.figure(figsize=(10, 6))\n",
    "plt.plot(x, prior_values, label='Prior', color='blue')\n",
    "plt.plot(x, likelihood_values, label='Likelihood', color='green')\n",
    "plt.plot(x, posterior_values, label='Posterior', color='orange')\n",
    "plt.title('Prior, Likelihood, and Posterior Distributions for Parameter b')\n",
    "plt.xlabel('b')\n",
    "plt.ylabel('Density')\n",
    "plt.legend()\n",
    "plt.show()"
   ],
   "metadata": {
    "collapsed": false
   },
   "id": "376e0c2bf617bb43"
  },
  {
   "cell_type": "markdown",
   "source": [
    "### Uloha 1.b.2: Determine 95% confidence interval for parameter b from the posterior distribution"
   ],
   "metadata": {
    "collapsed": false
   },
   "id": "1e01fa047dca863d"
  },
  {
   "cell_type": "code",
   "execution_count": null,
   "outputs": [],
   "source": [
    "DEBUG = 1\n",
    "\n",
    "posterior_percentiles = np.percentile(x, [2.5, 97.5], weights=posterior_values)\n",
    "print_debug(f\"95% Confidence Interval for Parameter b: {posterior_percentiles=}\")"
   ],
   "metadata": {
    "collapsed": false
   },
   "id": "fbc686a2b7860ed4"
  },
  {
   "cell_type": "markdown",
   "source": [
    "### Uloha 1.b.3: Select two point estimates for parameter b and calculate them"
   ],
   "metadata": {
    "collapsed": false
   },
   "id": "74e5646e7179eafe"
  },
  {
   "cell_type": "code",
   "execution_count": null,
   "outputs": [],
   "source": [
    "DEBUG = 1\n",
    "posterior_mean = np.sum(x * posterior_values)\n",
    "posterior_mode = x[np.argmax(posterior_values)]\n",
    "\n",
    "print_debug(f\"{posterior_mean=}\")\n",
    "print_debug(f\"{posterior_mode=}\")"
   ],
   "metadata": {
    "collapsed": false
   },
   "id": "f758fb1ca681641e"
  },
  {
   "cell_type": "code",
   "execution_count": null,
   "outputs": [],
   "source": [
    "# Načtení dat\n",
    "data = pd.read_csv('Data_v1.0.csv')\n",
    "\n",
    "# Přidání kvadratických termínů\n",
    "data['ActiveUsers_squared'] = data['ActiveUsers'] ** 2\n",
    "data['InteractingPct_squared'] = data['InteractingPct'] ** 2\n",
    "data['ScrollingPct_squared'] = data['ScrollingPct'] ** 2\n",
    "\n",
    "# Přidání interakcí druhého řádu\n",
    "data['ActiveUsers_InteractingPct'] = data['ActiveUsers'] * data['InteractingPct']\n",
    "data['ActiveUsers_ScrollingPct'] = data['ActiveUsers'] * data['ScrollingPct']\n",
    "data['InteractingPct_ScrollingPct'] = data['InteractingPct'] * data['ScrollingPct']\n",
    "\n",
    "# Plný kvadratický model\n",
    "model_formula = 'ping ~ ActiveUsers + InteractingPct + ScrollingPct + ActiveUsers_squared + InteractingPct_squared + ScrollingPct_squared + ActiveUsers_InteractingPct + ActiveUsers_ScrollingPct + InteractingPct_ScrollingPct + OSType'\n",
    "\n",
    "# Fit regresního modelu\n",
    "model = sm.OLS.from_formula(model_formula, data=data)\n",
    "results = model.fit()\n",
    "\n",
    "# Výpis výsledků\n",
    "print(results.summary())\n",
    "\n",
    "# Regresní diagnostika\n",
    "sns.residplot(x=results.fittedvalues, y=results.resid)\n",
    "plt.xlabel('Fitted values')\n",
    "plt.ylabel('Residuals')\n",
    "plt.title('Residuals vs Fitted')\n",
    "plt.show()\n",
    "\n",
    "# Test normality reziduí\n",
    "sm.qqplot(results.resid, line='s')\n",
    "plt.title('Normal Q-Q plot')\n",
    "plt.show()\n",
    "\n",
    "# VIF pro detekci multicollinearity\n",
    "X = data[['ActiveUsers', 'InteractingPct', 'ScrollingPct', 'ActiveUsers_squared', 'InteractingPct_squared',\n",
    "          'ScrollingPct_squared', 'ActiveUsers_InteractingPct', 'ActiveUsers_ScrollingPct',\n",
    "          'InteractingPct_ScrollingPct']]\n",
    "vif_data = pd.DataFrame()\n",
    "vif_data['Variable'] = X.columns\n",
    "vif_data['VIF'] = [variance_inflation_factor(X.values, i) for i in range(X.shape[1])]\n",
    "print(vif_data)\n",
    "\n",
    "# Identifikace odlehlých hodnot\n",
    "influence = results.get_influence()\n",
    "leverage = influence.hat_matrix_diag\n",
    "residuals_studentized = influence.resid_studentized_internal\n",
    "outliers = np.where((np.abs(residuals_studentized) > 2) | (leverage > 0.02))\n",
    "\n",
    "# Vyhodnocení výsledků a rozhodnutí o odstranění odlehlých hodnot (pokud je to nutné)\n",
    "\n",
    "# Analýza parametrů\n",
    "param_analysis = results.params\n",
    "\n",
    "# Identifikace nejproblematičtější hodnoty\n",
    "max_residual = data.loc[outliers[0], 'ping'].max()\n",
    "\n",
    "# Odhad odezvy uživatele s Windows\n",
    "windows_user = pd.DataFrame({'ActiveUsers': [data['ActiveUsers'].mean()],\n",
    "                             'InteractingPct': [data['InteractingPct'].mean()],\n",
    "                             'ScrollingPct': [data['ScrollingPct'].mean()],\n",
    "                             'ActiveUsers_squared': [data['ActiveUsers_squared'].mean()],\n",
    "                             'InteractingPct_squared': [data['InteractingPct_squared'].mean()],\n",
    "                             'ScrollingPct_squared': [data['ScrollingPct_squared'].mean()],\n",
    "                             'ActiveUsers_InteractingPct': [data['ActiveUsers_InteractingPct'].mean()],\n",
    "                             'ActiveUsers_ScrollingPct': [data['ActiveUsers_ScrollingPct'].mean()],\n",
    "                             'InteractingPct_ScrollingPct': [data['InteractingPct_ScrollingPct'].mean()],\n",
    "                             'OSType': ['Windows']})\n",
    "predicted_ping = results.predict(windows_user)\n",
    "\n",
    "# Konfidenční interval a predikční interval\n",
    "conf_interval = results.get_prediction(windows_user).conf_int()\n",
    "pred_interval = results.get_prediction(windows_user).conf_int(obs=True)\n",
    "\n",
    "# Vyhodnocení modelu pro další použití\n",
    "# Zde můžete diskutovat o tom, zda jsou výsledky modelu uspokojivé a zdali je model vhodný pro další použití.\n"
   ],
   "metadata": {
    "collapsed": false
   },
   "id": "e42d89a374cadf31"
  },
  {
   "cell_type": "code",
   "execution_count": null,
   "outputs": [],
   "source": [],
   "metadata": {
    "collapsed": false
   },
   "id": "5f9d918134eb8617"
  }
 ],
 "metadata": {
  "kernelspec": {
   "display_name": "Python 3",
   "language": "python",
   "name": "python3"
  },
  "language_info": {
   "codemirror_mode": {
    "name": "ipython",
    "version": 2
   },
   "file_extension": ".py",
   "mimetype": "text/x-python",
   "name": "python",
   "nbconvert_exporter": "python",
   "pygments_lexer": "ipython2",
   "version": "2.7.6"
  }
 },
 "nbformat": 4,
 "nbformat_minor": 5
}
